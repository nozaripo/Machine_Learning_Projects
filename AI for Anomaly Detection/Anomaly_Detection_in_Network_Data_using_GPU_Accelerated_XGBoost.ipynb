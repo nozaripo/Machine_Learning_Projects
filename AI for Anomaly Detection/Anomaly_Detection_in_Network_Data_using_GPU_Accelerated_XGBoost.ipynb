{
  "cells": [
    {
      "cell_type": "markdown",
      "metadata": {
        "id": "view-in-github",
        "colab_type": "text"
      },
      "source": [
        "<a href=\"https://colab.research.google.com/github/nozaripo/Machine_Learning_Projects/blob/main/AI%20for%20Anomaly%20Detection/Anomaly_Detection_in_Network_Data_using_GPU_Accelerated_XGBoost.ipynb\" target=\"_parent\"><img src=\"https://colab.research.google.com/assets/colab-badge.svg\" alt=\"Open In Colab\"/></a>"
      ]
    },
    {
      "cell_type": "markdown",
      "metadata": {
        "id": "6varrJXzNPXD"
      },
      "source": [
        "# Anomaly Detection in Network Data using GPU-Accelerated XGBoost"
      ]
    },
    {
      "cell_type": "markdown",
      "metadata": {
        "id": "cOsFQczPNPXE"
      },
      "source": [
        "In this project, we will use a GPU-Accelerated XGBoost algorithm to detect anomaly in network data. As network traffic continues to grow exponentially, the number of network attacks and the different kinds of attacks is also growing. The ability to quickly and frequently train machine learning models to detect network intrusions is more important now than ever.\n",
        "\n",
        "In this series of labs, we will learn how to use machine learning and deep learning models for detecting network intrusions in the full KDD99 dataset. The data processing and model training techniques that will be learned in these labs can be applied to many datasets for anomaly detection problems.\n",
        "\n",
        "The KDD99 dataset consists of normal data points and points that have been labeled as Denial of Service (`DoS`), Remote to User (`R2L`), User to Root (`U2R`), and Probing (`Probe`) by logging network packet information. More information about the dataset can be found at https://kdd.ics.uci.edu/databases/kddcup99/task.html.\n",
        "\n",
        "\n",
        "We'll start off by exploring the dataset and then we will use the NVIDIA RAPIDS library to train GPU-accelerated XGBoost models for network intrusion detection. The RAPIDS suite of software libraries, built on CUDA-X AI, gives you the freedom to execute end-to-end data science and analytics pipelines entirely on GPUs. It relies on NVIDIA® CUDA® primitives for low-level compute optimization, but exposes that GPU parallelism and high-bandwidth memory speed through user-friendly Python interfaces. Notice that we will also be using the Pandas and Scikit-learn packages in this lab."
      ]
    },
    {
      "cell_type": "code",
      "execution_count": null,
      "metadata": {
        "id": "ywqghDXZNPXE"
      },
      "outputs": [],
      "source": [
        "# Import libraries that will be needed for the lab\n",
        "\n",
        "import xgboost as xgb\n",
        "import numpy as np\n",
        "from collections import OrderedDict\n",
        "import gc\n",
        "from glob import glob\n",
        "import os\n",
        "import pandas as pd\n",
        "from copy import copy\n",
        "from time import time\n",
        "from sklearn.metrics import roc_auc_score,confusion_matrix,accuracy_score,classification_report,roc_curve\n",
        "from sklearn.model_selection import train_test_split\n",
        "from sklearn.preprocessing import LabelEncoder\n",
        "from timeit import default_timer\n",
        "import matplotlib.pyplot as plt\n",
        "import pickle\n",
        "\n",
        "# Set the seed for numpy\n",
        "np.random.seed(123)\n",
        "\n",
        "# Display all columns of Pandas' dataframes by default\n",
        "pd.set_option('display.max_columns', None)\n",
        "\n"
      ]
    },
    {
      "cell_type": "markdown",
      "metadata": {
        "id": "RMeAXC-N5l-G"
      },
      "source": [
        "In the case of using Google Colab, run the following code cell to connect the Colab notebook to your GDrive. If you are using your local jupyter notebook, there is no need for this step."
      ]
    },
    {
      "cell_type": "code",
      "execution_count": null,
      "metadata": {
        "id": "NXiYJc2ofp5P"
      },
      "outputs": [],
      "source": [
        "# from google.colab import drive\n",
        "# drive.mount('/content/drive')"
      ]
    },
    {
      "cell_type": "markdown",
      "metadata": {
        "id": "547SiAGp56RC"
      },
      "source": [
        "I am keeping the data in `./data/` in relation to the directory of this notebook. Feel free to download the data and modify the following `data_path` variable depending on where you save the data.\n",
        "\n",
        "You can download the data file [here](https://drive.google.com/file/d/10rch5S_BmDWi--iXxwxr0C_SubievLRt/view?usp=sharing)."
      ]
    },
    {
      "cell_type": "code",
      "execution_count": null,
      "metadata": {
        "id": "lrERyFtNgK-u"
      },
      "outputs": [],
      "source": [
        "# data_path = '/content/drive/MyDrive/DLI_AnomalyDetection/data/kddcup.data.corrected'\n",
        "data_path = './data/kddcup.data.corrected'"
      ]
    },
    {
      "cell_type": "markdown",
      "metadata": {
        "id": "MQU1sEa-NPXF"
      },
      "source": [
        "## Section 1: Data"
      ]
    },
    {
      "cell_type": "markdown",
      "metadata": {
        "id": "hqQXULMPNPXF"
      },
      "source": [
        "### 1.1 Load the Dataset"
      ]
    },
    {
      "cell_type": "markdown",
      "metadata": {
        "id": "jwvfQCUoNPXF"
      },
      "source": [
        "Let's begin by first importing the KDD99 Dataset using Pandas and then doing some basic data exploration."
      ]
    },
    {
      "cell_type": "code",
      "execution_count": null,
      "metadata": {
        "colab": {
          "base_uri": "https://localhost:8080/",
          "height": 444
        },
        "id": "vjPDklugNPXG",
        "outputId": "1e622d60-9014-4146-aeaa-bb17c3a8627e"
      },
      "outputs": [
        {
          "data": {
            "text/html": [
              "<div>\n",
              "<style scoped>\n",
              "    .dataframe tbody tr th:only-of-type {\n",
              "        vertical-align: middle;\n",
              "    }\n",
              "\n",
              "    .dataframe tbody tr th {\n",
              "        vertical-align: top;\n",
              "    }\n",
              "\n",
              "    .dataframe thead th {\n",
              "        text-align: right;\n",
              "    }\n",
              "</style>\n",
              "<table border=\"1\" class=\"dataframe\">\n",
              "  <thead>\n",
              "    <tr style=\"text-align: right;\">\n",
              "      <th></th>\n",
              "      <th>duration</th>\n",
              "      <th>protocol_type</th>\n",
              "      <th>service</th>\n",
              "      <th>flag</th>\n",
              "      <th>src_bytes</th>\n",
              "      <th>dst_bytes</th>\n",
              "      <th>land</th>\n",
              "      <th>wrong_fragment</th>\n",
              "      <th>urgent</th>\n",
              "      <th>hot</th>\n",
              "      <th>num_failed_logins</th>\n",
              "      <th>logged_in</th>\n",
              "      <th>num_compromised</th>\n",
              "      <th>root_shell</th>\n",
              "      <th>su_attempted</th>\n",
              "      <th>num_root</th>\n",
              "      <th>num_file_creations</th>\n",
              "      <th>num_shells</th>\n",
              "      <th>num_access_files</th>\n",
              "      <th>num_outbound_cmds</th>\n",
              "      <th>is_host_login</th>\n",
              "      <th>is_guest_login</th>\n",
              "      <th>count</th>\n",
              "      <th>srv_count</th>\n",
              "      <th>serror_rate</th>\n",
              "      <th>srv_serror_rate</th>\n",
              "      <th>rerror_rate</th>\n",
              "      <th>srv_rerror_rate</th>\n",
              "      <th>same_srv_rate</th>\n",
              "      <th>diff_srv_rate</th>\n",
              "      <th>srv_diff_host_rate</th>\n",
              "      <th>dst_host_count</th>\n",
              "      <th>dst_host_srv_count</th>\n",
              "      <th>dst_host_same_srv_rate</th>\n",
              "      <th>dst_host_diff_srv_rate</th>\n",
              "      <th>dst_host_same_src_port_rate</th>\n",
              "      <th>dst_host_srv_diff_host_rate</th>\n",
              "      <th>dst_host_serror_rate</th>\n",
              "      <th>dst_host_srv_serror_rate</th>\n",
              "      <th>dst_host_rerror_rate</th>\n",
              "      <th>dst_host_srv_rerror_rate</th>\n",
              "      <th>label</th>\n",
              "    </tr>\n",
              "  </thead>\n",
              "  <tbody>\n",
              "    <tr>\n",
              "      <th>0</th>\n",
              "      <td>0</td>\n",
              "      <td>tcp</td>\n",
              "      <td>http</td>\n",
              "      <td>SF</td>\n",
              "      <td>215</td>\n",
              "      <td>45076</td>\n",
              "      <td>0</td>\n",
              "      <td>0</td>\n",
              "      <td>0</td>\n",
              "      <td>0</td>\n",
              "      <td>0</td>\n",
              "      <td>1</td>\n",
              "      <td>0</td>\n",
              "      <td>0</td>\n",
              "      <td>0</td>\n",
              "      <td>0</td>\n",
              "      <td>0</td>\n",
              "      <td>0</td>\n",
              "      <td>0</td>\n",
              "      <td>0</td>\n",
              "      <td>0</td>\n",
              "      <td>0</td>\n",
              "      <td>1</td>\n",
              "      <td>1</td>\n",
              "      <td>0.0</td>\n",
              "      <td>0.0</td>\n",
              "      <td>0.0</td>\n",
              "      <td>0.0</td>\n",
              "      <td>1.0</td>\n",
              "      <td>0.0</td>\n",
              "      <td>0.00</td>\n",
              "      <td>0</td>\n",
              "      <td>0</td>\n",
              "      <td>0.0</td>\n",
              "      <td>0.0</td>\n",
              "      <td>0.00</td>\n",
              "      <td>0.00</td>\n",
              "      <td>0.0</td>\n",
              "      <td>0.00</td>\n",
              "      <td>0.0</td>\n",
              "      <td>0.0</td>\n",
              "      <td>normal.</td>\n",
              "    </tr>\n",
              "    <tr>\n",
              "      <th>1</th>\n",
              "      <td>0</td>\n",
              "      <td>tcp</td>\n",
              "      <td>http</td>\n",
              "      <td>SF</td>\n",
              "      <td>162</td>\n",
              "      <td>4528</td>\n",
              "      <td>0</td>\n",
              "      <td>0</td>\n",
              "      <td>0</td>\n",
              "      <td>0</td>\n",
              "      <td>0</td>\n",
              "      <td>1</td>\n",
              "      <td>0</td>\n",
              "      <td>0</td>\n",
              "      <td>0</td>\n",
              "      <td>0</td>\n",
              "      <td>0</td>\n",
              "      <td>0</td>\n",
              "      <td>0</td>\n",
              "      <td>0</td>\n",
              "      <td>0</td>\n",
              "      <td>0</td>\n",
              "      <td>2</td>\n",
              "      <td>2</td>\n",
              "      <td>0.0</td>\n",
              "      <td>0.0</td>\n",
              "      <td>0.0</td>\n",
              "      <td>0.0</td>\n",
              "      <td>1.0</td>\n",
              "      <td>0.0</td>\n",
              "      <td>0.00</td>\n",
              "      <td>1</td>\n",
              "      <td>1</td>\n",
              "      <td>1.0</td>\n",
              "      <td>0.0</td>\n",
              "      <td>1.00</td>\n",
              "      <td>0.00</td>\n",
              "      <td>0.0</td>\n",
              "      <td>0.00</td>\n",
              "      <td>0.0</td>\n",
              "      <td>0.0</td>\n",
              "      <td>normal.</td>\n",
              "    </tr>\n",
              "    <tr>\n",
              "      <th>2</th>\n",
              "      <td>0</td>\n",
              "      <td>tcp</td>\n",
              "      <td>http</td>\n",
              "      <td>SF</td>\n",
              "      <td>236</td>\n",
              "      <td>1228</td>\n",
              "      <td>0</td>\n",
              "      <td>0</td>\n",
              "      <td>0</td>\n",
              "      <td>0</td>\n",
              "      <td>0</td>\n",
              "      <td>1</td>\n",
              "      <td>0</td>\n",
              "      <td>0</td>\n",
              "      <td>0</td>\n",
              "      <td>0</td>\n",
              "      <td>0</td>\n",
              "      <td>0</td>\n",
              "      <td>0</td>\n",
              "      <td>0</td>\n",
              "      <td>0</td>\n",
              "      <td>0</td>\n",
              "      <td>1</td>\n",
              "      <td>1</td>\n",
              "      <td>0.0</td>\n",
              "      <td>0.0</td>\n",
              "      <td>0.0</td>\n",
              "      <td>0.0</td>\n",
              "      <td>1.0</td>\n",
              "      <td>0.0</td>\n",
              "      <td>0.00</td>\n",
              "      <td>2</td>\n",
              "      <td>2</td>\n",
              "      <td>1.0</td>\n",
              "      <td>0.0</td>\n",
              "      <td>0.50</td>\n",
              "      <td>0.00</td>\n",
              "      <td>0.0</td>\n",
              "      <td>0.00</td>\n",
              "      <td>0.0</td>\n",
              "      <td>0.0</td>\n",
              "      <td>normal.</td>\n",
              "    </tr>\n",
              "    <tr>\n",
              "      <th>3</th>\n",
              "      <td>0</td>\n",
              "      <td>tcp</td>\n",
              "      <td>http</td>\n",
              "      <td>SF</td>\n",
              "      <td>233</td>\n",
              "      <td>2032</td>\n",
              "      <td>0</td>\n",
              "      <td>0</td>\n",
              "      <td>0</td>\n",
              "      <td>0</td>\n",
              "      <td>0</td>\n",
              "      <td>1</td>\n",
              "      <td>0</td>\n",
              "      <td>0</td>\n",
              "      <td>0</td>\n",
              "      <td>0</td>\n",
              "      <td>0</td>\n",
              "      <td>0</td>\n",
              "      <td>0</td>\n",
              "      <td>0</td>\n",
              "      <td>0</td>\n",
              "      <td>0</td>\n",
              "      <td>2</td>\n",
              "      <td>2</td>\n",
              "      <td>0.0</td>\n",
              "      <td>0.0</td>\n",
              "      <td>0.0</td>\n",
              "      <td>0.0</td>\n",
              "      <td>1.0</td>\n",
              "      <td>0.0</td>\n",
              "      <td>0.00</td>\n",
              "      <td>3</td>\n",
              "      <td>3</td>\n",
              "      <td>1.0</td>\n",
              "      <td>0.0</td>\n",
              "      <td>0.33</td>\n",
              "      <td>0.00</td>\n",
              "      <td>0.0</td>\n",
              "      <td>0.00</td>\n",
              "      <td>0.0</td>\n",
              "      <td>0.0</td>\n",
              "      <td>normal.</td>\n",
              "    </tr>\n",
              "    <tr>\n",
              "      <th>4</th>\n",
              "      <td>0</td>\n",
              "      <td>tcp</td>\n",
              "      <td>http</td>\n",
              "      <td>SF</td>\n",
              "      <td>239</td>\n",
              "      <td>486</td>\n",
              "      <td>0</td>\n",
              "      <td>0</td>\n",
              "      <td>0</td>\n",
              "      <td>0</td>\n",
              "      <td>0</td>\n",
              "      <td>1</td>\n",
              "      <td>0</td>\n",
              "      <td>0</td>\n",
              "      <td>0</td>\n",
              "      <td>0</td>\n",
              "      <td>0</td>\n",
              "      <td>0</td>\n",
              "      <td>0</td>\n",
              "      <td>0</td>\n",
              "      <td>0</td>\n",
              "      <td>0</td>\n",
              "      <td>3</td>\n",
              "      <td>3</td>\n",
              "      <td>0.0</td>\n",
              "      <td>0.0</td>\n",
              "      <td>0.0</td>\n",
              "      <td>0.0</td>\n",
              "      <td>1.0</td>\n",
              "      <td>0.0</td>\n",
              "      <td>0.00</td>\n",
              "      <td>4</td>\n",
              "      <td>4</td>\n",
              "      <td>1.0</td>\n",
              "      <td>0.0</td>\n",
              "      <td>0.25</td>\n",
              "      <td>0.00</td>\n",
              "      <td>0.0</td>\n",
              "      <td>0.00</td>\n",
              "      <td>0.0</td>\n",
              "      <td>0.0</td>\n",
              "      <td>normal.</td>\n",
              "    </tr>\n",
              "    <tr>\n",
              "      <th>...</th>\n",
              "      <td>...</td>\n",
              "      <td>...</td>\n",
              "      <td>...</td>\n",
              "      <td>...</td>\n",
              "      <td>...</td>\n",
              "      <td>...</td>\n",
              "      <td>...</td>\n",
              "      <td>...</td>\n",
              "      <td>...</td>\n",
              "      <td>...</td>\n",
              "      <td>...</td>\n",
              "      <td>...</td>\n",
              "      <td>...</td>\n",
              "      <td>...</td>\n",
              "      <td>...</td>\n",
              "      <td>...</td>\n",
              "      <td>...</td>\n",
              "      <td>...</td>\n",
              "      <td>...</td>\n",
              "      <td>...</td>\n",
              "      <td>...</td>\n",
              "      <td>...</td>\n",
              "      <td>...</td>\n",
              "      <td>...</td>\n",
              "      <td>...</td>\n",
              "      <td>...</td>\n",
              "      <td>...</td>\n",
              "      <td>...</td>\n",
              "      <td>...</td>\n",
              "      <td>...</td>\n",
              "      <td>...</td>\n",
              "      <td>...</td>\n",
              "      <td>...</td>\n",
              "      <td>...</td>\n",
              "      <td>...</td>\n",
              "      <td>...</td>\n",
              "      <td>...</td>\n",
              "      <td>...</td>\n",
              "      <td>...</td>\n",
              "      <td>...</td>\n",
              "      <td>...</td>\n",
              "      <td>...</td>\n",
              "    </tr>\n",
              "    <tr>\n",
              "      <th>4898426</th>\n",
              "      <td>0</td>\n",
              "      <td>tcp</td>\n",
              "      <td>http</td>\n",
              "      <td>SF</td>\n",
              "      <td>212</td>\n",
              "      <td>2288</td>\n",
              "      <td>0</td>\n",
              "      <td>0</td>\n",
              "      <td>0</td>\n",
              "      <td>0</td>\n",
              "      <td>0</td>\n",
              "      <td>1</td>\n",
              "      <td>0</td>\n",
              "      <td>0</td>\n",
              "      <td>0</td>\n",
              "      <td>0</td>\n",
              "      <td>0</td>\n",
              "      <td>0</td>\n",
              "      <td>0</td>\n",
              "      <td>0</td>\n",
              "      <td>0</td>\n",
              "      <td>0</td>\n",
              "      <td>3</td>\n",
              "      <td>32</td>\n",
              "      <td>0.0</td>\n",
              "      <td>0.0</td>\n",
              "      <td>0.0</td>\n",
              "      <td>0.0</td>\n",
              "      <td>1.0</td>\n",
              "      <td>0.0</td>\n",
              "      <td>0.16</td>\n",
              "      <td>3</td>\n",
              "      <td>255</td>\n",
              "      <td>1.0</td>\n",
              "      <td>0.0</td>\n",
              "      <td>0.33</td>\n",
              "      <td>0.05</td>\n",
              "      <td>0.0</td>\n",
              "      <td>0.01</td>\n",
              "      <td>0.0</td>\n",
              "      <td>0.0</td>\n",
              "      <td>normal.</td>\n",
              "    </tr>\n",
              "    <tr>\n",
              "      <th>4898427</th>\n",
              "      <td>0</td>\n",
              "      <td>tcp</td>\n",
              "      <td>http</td>\n",
              "      <td>SF</td>\n",
              "      <td>219</td>\n",
              "      <td>236</td>\n",
              "      <td>0</td>\n",
              "      <td>0</td>\n",
              "      <td>0</td>\n",
              "      <td>0</td>\n",
              "      <td>0</td>\n",
              "      <td>1</td>\n",
              "      <td>0</td>\n",
              "      <td>0</td>\n",
              "      <td>0</td>\n",
              "      <td>0</td>\n",
              "      <td>0</td>\n",
              "      <td>0</td>\n",
              "      <td>0</td>\n",
              "      <td>0</td>\n",
              "      <td>0</td>\n",
              "      <td>0</td>\n",
              "      <td>4</td>\n",
              "      <td>33</td>\n",
              "      <td>0.0</td>\n",
              "      <td>0.0</td>\n",
              "      <td>0.0</td>\n",
              "      <td>0.0</td>\n",
              "      <td>1.0</td>\n",
              "      <td>0.0</td>\n",
              "      <td>0.15</td>\n",
              "      <td>4</td>\n",
              "      <td>255</td>\n",
              "      <td>1.0</td>\n",
              "      <td>0.0</td>\n",
              "      <td>0.25</td>\n",
              "      <td>0.05</td>\n",
              "      <td>0.0</td>\n",
              "      <td>0.01</td>\n",
              "      <td>0.0</td>\n",
              "      <td>0.0</td>\n",
              "      <td>normal.</td>\n",
              "    </tr>\n",
              "    <tr>\n",
              "      <th>4898428</th>\n",
              "      <td>0</td>\n",
              "      <td>tcp</td>\n",
              "      <td>http</td>\n",
              "      <td>SF</td>\n",
              "      <td>218</td>\n",
              "      <td>3610</td>\n",
              "      <td>0</td>\n",
              "      <td>0</td>\n",
              "      <td>0</td>\n",
              "      <td>0</td>\n",
              "      <td>0</td>\n",
              "      <td>1</td>\n",
              "      <td>0</td>\n",
              "      <td>0</td>\n",
              "      <td>0</td>\n",
              "      <td>0</td>\n",
              "      <td>0</td>\n",
              "      <td>0</td>\n",
              "      <td>0</td>\n",
              "      <td>0</td>\n",
              "      <td>0</td>\n",
              "      <td>0</td>\n",
              "      <td>5</td>\n",
              "      <td>34</td>\n",
              "      <td>0.0</td>\n",
              "      <td>0.0</td>\n",
              "      <td>0.0</td>\n",
              "      <td>0.0</td>\n",
              "      <td>1.0</td>\n",
              "      <td>0.0</td>\n",
              "      <td>0.15</td>\n",
              "      <td>5</td>\n",
              "      <td>255</td>\n",
              "      <td>1.0</td>\n",
              "      <td>0.0</td>\n",
              "      <td>0.20</td>\n",
              "      <td>0.05</td>\n",
              "      <td>0.0</td>\n",
              "      <td>0.01</td>\n",
              "      <td>0.0</td>\n",
              "      <td>0.0</td>\n",
              "      <td>normal.</td>\n",
              "    </tr>\n",
              "    <tr>\n",
              "      <th>4898429</th>\n",
              "      <td>0</td>\n",
              "      <td>tcp</td>\n",
              "      <td>http</td>\n",
              "      <td>SF</td>\n",
              "      <td>219</td>\n",
              "      <td>1234</td>\n",
              "      <td>0</td>\n",
              "      <td>0</td>\n",
              "      <td>0</td>\n",
              "      <td>0</td>\n",
              "      <td>0</td>\n",
              "      <td>1</td>\n",
              "      <td>0</td>\n",
              "      <td>0</td>\n",
              "      <td>0</td>\n",
              "      <td>0</td>\n",
              "      <td>0</td>\n",
              "      <td>0</td>\n",
              "      <td>0</td>\n",
              "      <td>0</td>\n",
              "      <td>0</td>\n",
              "      <td>0</td>\n",
              "      <td>6</td>\n",
              "      <td>35</td>\n",
              "      <td>0.0</td>\n",
              "      <td>0.0</td>\n",
              "      <td>0.0</td>\n",
              "      <td>0.0</td>\n",
              "      <td>1.0</td>\n",
              "      <td>0.0</td>\n",
              "      <td>0.14</td>\n",
              "      <td>6</td>\n",
              "      <td>255</td>\n",
              "      <td>1.0</td>\n",
              "      <td>0.0</td>\n",
              "      <td>0.17</td>\n",
              "      <td>0.05</td>\n",
              "      <td>0.0</td>\n",
              "      <td>0.01</td>\n",
              "      <td>0.0</td>\n",
              "      <td>0.0</td>\n",
              "      <td>normal.</td>\n",
              "    </tr>\n",
              "    <tr>\n",
              "      <th>4898430</th>\n",
              "      <td>0</td>\n",
              "      <td>tcp</td>\n",
              "      <td>http</td>\n",
              "      <td>SF</td>\n",
              "      <td>219</td>\n",
              "      <td>1098</td>\n",
              "      <td>0</td>\n",
              "      <td>0</td>\n",
              "      <td>0</td>\n",
              "      <td>0</td>\n",
              "      <td>0</td>\n",
              "      <td>1</td>\n",
              "      <td>0</td>\n",
              "      <td>0</td>\n",
              "      <td>0</td>\n",
              "      <td>0</td>\n",
              "      <td>0</td>\n",
              "      <td>0</td>\n",
              "      <td>0</td>\n",
              "      <td>0</td>\n",
              "      <td>0</td>\n",
              "      <td>0</td>\n",
              "      <td>1</td>\n",
              "      <td>1</td>\n",
              "      <td>0.0</td>\n",
              "      <td>0.0</td>\n",
              "      <td>0.0</td>\n",
              "      <td>0.0</td>\n",
              "      <td>1.0</td>\n",
              "      <td>0.0</td>\n",
              "      <td>0.00</td>\n",
              "      <td>7</td>\n",
              "      <td>255</td>\n",
              "      <td>1.0</td>\n",
              "      <td>0.0</td>\n",
              "      <td>0.14</td>\n",
              "      <td>0.05</td>\n",
              "      <td>0.0</td>\n",
              "      <td>0.01</td>\n",
              "      <td>0.0</td>\n",
              "      <td>0.0</td>\n",
              "      <td>normal.</td>\n",
              "    </tr>\n",
              "  </tbody>\n",
              "</table>\n",
              "<p>4898431 rows × 42 columns</p>\n",
              "</div>"
            ],
            "text/plain": [
              "         duration protocol_type service flag  src_bytes  dst_bytes  land  \\\n",
              "0               0           tcp    http   SF        215      45076     0   \n",
              "1               0           tcp    http   SF        162       4528     0   \n",
              "2               0           tcp    http   SF        236       1228     0   \n",
              "3               0           tcp    http   SF        233       2032     0   \n",
              "4               0           tcp    http   SF        239        486     0   \n",
              "...           ...           ...     ...  ...        ...        ...   ...   \n",
              "4898426         0           tcp    http   SF        212       2288     0   \n",
              "4898427         0           tcp    http   SF        219        236     0   \n",
              "4898428         0           tcp    http   SF        218       3610     0   \n",
              "4898429         0           tcp    http   SF        219       1234     0   \n",
              "4898430         0           tcp    http   SF        219       1098     0   \n",
              "\n",
              "         wrong_fragment  urgent  hot  num_failed_logins  logged_in  \\\n",
              "0                     0       0    0                  0          1   \n",
              "1                     0       0    0                  0          1   \n",
              "2                     0       0    0                  0          1   \n",
              "3                     0       0    0                  0          1   \n",
              "4                     0       0    0                  0          1   \n",
              "...                 ...     ...  ...                ...        ...   \n",
              "4898426               0       0    0                  0          1   \n",
              "4898427               0       0    0                  0          1   \n",
              "4898428               0       0    0                  0          1   \n",
              "4898429               0       0    0                  0          1   \n",
              "4898430               0       0    0                  0          1   \n",
              "\n",
              "         num_compromised  root_shell  su_attempted  num_root  \\\n",
              "0                      0           0             0         0   \n",
              "1                      0           0             0         0   \n",
              "2                      0           0             0         0   \n",
              "3                      0           0             0         0   \n",
              "4                      0           0             0         0   \n",
              "...                  ...         ...           ...       ...   \n",
              "4898426                0           0             0         0   \n",
              "4898427                0           0             0         0   \n",
              "4898428                0           0             0         0   \n",
              "4898429                0           0             0         0   \n",
              "4898430                0           0             0         0   \n",
              "\n",
              "         num_file_creations  num_shells  num_access_files  num_outbound_cmds  \\\n",
              "0                         0           0                 0                  0   \n",
              "1                         0           0                 0                  0   \n",
              "2                         0           0                 0                  0   \n",
              "3                         0           0                 0                  0   \n",
              "4                         0           0                 0                  0   \n",
              "...                     ...         ...               ...                ...   \n",
              "4898426                   0           0                 0                  0   \n",
              "4898427                   0           0                 0                  0   \n",
              "4898428                   0           0                 0                  0   \n",
              "4898429                   0           0                 0                  0   \n",
              "4898430                   0           0                 0                  0   \n",
              "\n",
              "         is_host_login  is_guest_login  count  srv_count  serror_rate  \\\n",
              "0                    0               0      1          1          0.0   \n",
              "1                    0               0      2          2          0.0   \n",
              "2                    0               0      1          1          0.0   \n",
              "3                    0               0      2          2          0.0   \n",
              "4                    0               0      3          3          0.0   \n",
              "...                ...             ...    ...        ...          ...   \n",
              "4898426              0               0      3         32          0.0   \n",
              "4898427              0               0      4         33          0.0   \n",
              "4898428              0               0      5         34          0.0   \n",
              "4898429              0               0      6         35          0.0   \n",
              "4898430              0               0      1          1          0.0   \n",
              "\n",
              "         srv_serror_rate  rerror_rate  srv_rerror_rate  same_srv_rate  \\\n",
              "0                    0.0          0.0              0.0            1.0   \n",
              "1                    0.0          0.0              0.0            1.0   \n",
              "2                    0.0          0.0              0.0            1.0   \n",
              "3                    0.0          0.0              0.0            1.0   \n",
              "4                    0.0          0.0              0.0            1.0   \n",
              "...                  ...          ...              ...            ...   \n",
              "4898426              0.0          0.0              0.0            1.0   \n",
              "4898427              0.0          0.0              0.0            1.0   \n",
              "4898428              0.0          0.0              0.0            1.0   \n",
              "4898429              0.0          0.0              0.0            1.0   \n",
              "4898430              0.0          0.0              0.0            1.0   \n",
              "\n",
              "         diff_srv_rate  srv_diff_host_rate  dst_host_count  \\\n",
              "0                  0.0                0.00               0   \n",
              "1                  0.0                0.00               1   \n",
              "2                  0.0                0.00               2   \n",
              "3                  0.0                0.00               3   \n",
              "4                  0.0                0.00               4   \n",
              "...                ...                 ...             ...   \n",
              "4898426            0.0                0.16               3   \n",
              "4898427            0.0                0.15               4   \n",
              "4898428            0.0                0.15               5   \n",
              "4898429            0.0                0.14               6   \n",
              "4898430            0.0                0.00               7   \n",
              "\n",
              "         dst_host_srv_count  dst_host_same_srv_rate  dst_host_diff_srv_rate  \\\n",
              "0                         0                     0.0                     0.0   \n",
              "1                         1                     1.0                     0.0   \n",
              "2                         2                     1.0                     0.0   \n",
              "3                         3                     1.0                     0.0   \n",
              "4                         4                     1.0                     0.0   \n",
              "...                     ...                     ...                     ...   \n",
              "4898426                 255                     1.0                     0.0   \n",
              "4898427                 255                     1.0                     0.0   \n",
              "4898428                 255                     1.0                     0.0   \n",
              "4898429                 255                     1.0                     0.0   \n",
              "4898430                 255                     1.0                     0.0   \n",
              "\n",
              "         dst_host_same_src_port_rate  dst_host_srv_diff_host_rate  \\\n",
              "0                               0.00                         0.00   \n",
              "1                               1.00                         0.00   \n",
              "2                               0.50                         0.00   \n",
              "3                               0.33                         0.00   \n",
              "4                               0.25                         0.00   \n",
              "...                              ...                          ...   \n",
              "4898426                         0.33                         0.05   \n",
              "4898427                         0.25                         0.05   \n",
              "4898428                         0.20                         0.05   \n",
              "4898429                         0.17                         0.05   \n",
              "4898430                         0.14                         0.05   \n",
              "\n",
              "         dst_host_serror_rate  dst_host_srv_serror_rate  dst_host_rerror_rate  \\\n",
              "0                         0.0                      0.00                   0.0   \n",
              "1                         0.0                      0.00                   0.0   \n",
              "2                         0.0                      0.00                   0.0   \n",
              "3                         0.0                      0.00                   0.0   \n",
              "4                         0.0                      0.00                   0.0   \n",
              "...                       ...                       ...                   ...   \n",
              "4898426                   0.0                      0.01                   0.0   \n",
              "4898427                   0.0                      0.01                   0.0   \n",
              "4898428                   0.0                      0.01                   0.0   \n",
              "4898429                   0.0                      0.01                   0.0   \n",
              "4898430                   0.0                      0.01                   0.0   \n",
              "\n",
              "         dst_host_srv_rerror_rate    label  \n",
              "0                             0.0  normal.  \n",
              "1                             0.0  normal.  \n",
              "2                             0.0  normal.  \n",
              "3                             0.0  normal.  \n",
              "4                             0.0  normal.  \n",
              "...                           ...      ...  \n",
              "4898426                       0.0  normal.  \n",
              "4898427                       0.0  normal.  \n",
              "4898428                       0.0  normal.  \n",
              "4898429                       0.0  normal.  \n",
              "4898430                       0.0  normal.  \n",
              "\n",
              "[4898431 rows x 42 columns]"
            ]
          },
          "execution_count": 52,
          "metadata": {},
          "output_type": "execute_result"
        }
      ],
      "source": [
        "col_names = [\"duration\",\"protocol_type\",\"service\",\"flag\",\"src_bytes\",\"dst_bytes\",\"land\",\"wrong_fragment\",\"urgent\",\"hot\",\"num_failed_logins\",\"logged_in\",\n",
        "             \"num_compromised\",\"root_shell\",\"su_attempted\",\"num_root\",\"num_file_creations\",\"num_shells\",\"num_access_files\",\"num_outbound_cmds\",\n",
        "             \"is_host_login\",\"is_guest_login\",\"count\",\"srv_count\",\"serror_rate\",\"srv_serror_rate\",\"rerror_rate\",\"srv_rerror_rate\",\"same_srv_rate\",\n",
        "             \"diff_srv_rate\",\"srv_diff_host_rate\",\"dst_host_count\",\"dst_host_srv_count\",\"dst_host_same_srv_rate\",\"dst_host_diff_srv_rate\",\n",
        "             \"dst_host_same_src_port_rate\",\"dst_host_srv_diff_host_rate\",\"dst_host_serror_rate\",\"dst_host_srv_serror_rate\",\"dst_host_rerror_rate\",\n",
        "             \"dst_host_srv_rerror_rate\",\"label\"]\n",
        "\n",
        "df =  pd.read_csv(data_path, header=None, names=col_names, index_col=False)\n",
        "\n",
        "# Display a few rows of the dataset\n",
        "df"
      ]
    },
    {
      "cell_type": "markdown",
      "metadata": {
        "id": "POMd-KgpNPXG"
      },
      "source": [
        "Each row of the KDD Cup 99 dataset is a network connection, with a total of 41 independent variables and 1 dependent variable. The independent variables can be broadly divided into three groups:\n",
        "\n",
        "1. Basic input features of network connections such as duration, protocol type, and number of bytes from source IP addresses\n",
        "2. Content input features of network connections\n",
        "3. The statistical input features computed over a time window\n",
        "\n",
        "Scroll to the right of the above cell to see all of the features.  The last column on the right is the \"Label\" column. This indicates whether the row is normal or some type of anomalous network traffic.\n",
        "\n",
        "Let's see what types of anomalies are in our dataset."
      ]
    },
    {
      "cell_type": "code",
      "execution_count": null,
      "metadata": {
        "colab": {
          "base_uri": "https://localhost:8080/",
          "height": 771
        },
        "id": "ljhHOSUNNPXG",
        "outputId": "d7b61ae5-7aed-4dc0-af25-4048c4603998"
      },
      "outputs": [
        {
          "data": {
            "text/html": [
              "<div>\n",
              "<style scoped>\n",
              "    .dataframe tbody tr th:only-of-type {\n",
              "        vertical-align: middle;\n",
              "    }\n",
              "\n",
              "    .dataframe tbody tr th {\n",
              "        vertical-align: top;\n",
              "    }\n",
              "\n",
              "    .dataframe thead th {\n",
              "        text-align: right;\n",
              "    }\n",
              "</style>\n",
              "<table border=\"1\" class=\"dataframe\">\n",
              "  <thead>\n",
              "    <tr style=\"text-align: right;\">\n",
              "      <th></th>\n",
              "      <th>label</th>\n",
              "    </tr>\n",
              "  </thead>\n",
              "  <tbody>\n",
              "    <tr>\n",
              "      <th>smurf.</th>\n",
              "      <td>2807886</td>\n",
              "    </tr>\n",
              "    <tr>\n",
              "      <th>neptune.</th>\n",
              "      <td>1072017</td>\n",
              "    </tr>\n",
              "    <tr>\n",
              "      <th>normal.</th>\n",
              "      <td>972781</td>\n",
              "    </tr>\n",
              "    <tr>\n",
              "      <th>satan.</th>\n",
              "      <td>15892</td>\n",
              "    </tr>\n",
              "    <tr>\n",
              "      <th>ipsweep.</th>\n",
              "      <td>12481</td>\n",
              "    </tr>\n",
              "    <tr>\n",
              "      <th>portsweep.</th>\n",
              "      <td>10413</td>\n",
              "    </tr>\n",
              "    <tr>\n",
              "      <th>nmap.</th>\n",
              "      <td>2316</td>\n",
              "    </tr>\n",
              "    <tr>\n",
              "      <th>back.</th>\n",
              "      <td>2203</td>\n",
              "    </tr>\n",
              "    <tr>\n",
              "      <th>warezclient.</th>\n",
              "      <td>1020</td>\n",
              "    </tr>\n",
              "    <tr>\n",
              "      <th>teardrop.</th>\n",
              "      <td>979</td>\n",
              "    </tr>\n",
              "    <tr>\n",
              "      <th>pod.</th>\n",
              "      <td>264</td>\n",
              "    </tr>\n",
              "    <tr>\n",
              "      <th>guess_passwd.</th>\n",
              "      <td>53</td>\n",
              "    </tr>\n",
              "    <tr>\n",
              "      <th>buffer_overflow.</th>\n",
              "      <td>30</td>\n",
              "    </tr>\n",
              "    <tr>\n",
              "      <th>land.</th>\n",
              "      <td>21</td>\n",
              "    </tr>\n",
              "    <tr>\n",
              "      <th>warezmaster.</th>\n",
              "      <td>20</td>\n",
              "    </tr>\n",
              "    <tr>\n",
              "      <th>imap.</th>\n",
              "      <td>12</td>\n",
              "    </tr>\n",
              "    <tr>\n",
              "      <th>rootkit.</th>\n",
              "      <td>10</td>\n",
              "    </tr>\n",
              "    <tr>\n",
              "      <th>loadmodule.</th>\n",
              "      <td>9</td>\n",
              "    </tr>\n",
              "    <tr>\n",
              "      <th>ftp_write.</th>\n",
              "      <td>8</td>\n",
              "    </tr>\n",
              "    <tr>\n",
              "      <th>multihop.</th>\n",
              "      <td>7</td>\n",
              "    </tr>\n",
              "    <tr>\n",
              "      <th>phf.</th>\n",
              "      <td>4</td>\n",
              "    </tr>\n",
              "    <tr>\n",
              "      <th>perl.</th>\n",
              "      <td>3</td>\n",
              "    </tr>\n",
              "    <tr>\n",
              "      <th>spy.</th>\n",
              "      <td>2</td>\n",
              "    </tr>\n",
              "  </tbody>\n",
              "</table>\n",
              "</div>"
            ],
            "text/plain": [
              "                    label\n",
              "smurf.            2807886\n",
              "neptune.          1072017\n",
              "normal.            972781\n",
              "satan.              15892\n",
              "ipsweep.            12481\n",
              "portsweep.          10413\n",
              "nmap.                2316\n",
              "back.                2203\n",
              "warezclient.         1020\n",
              "teardrop.             979\n",
              "pod.                  264\n",
              "guess_passwd.          53\n",
              "buffer_overflow.       30\n",
              "land.                  21\n",
              "warezmaster.           20\n",
              "imap.                  12\n",
              "rootkit.               10\n",
              "loadmodule.             9\n",
              "ftp_write.              8\n",
              "multihop.               7\n",
              "phf.                    4\n",
              "perl.                   3\n",
              "spy.                    2"
            ]
          },
          "execution_count": 53,
          "metadata": {},
          "output_type": "execute_result"
        }
      ],
      "source": [
        "pd.DataFrame(df['label'].value_counts())"
      ]
    },
    {
      "cell_type": "markdown",
      "metadata": {
        "id": "12cgOf617hGs"
      },
      "source": [
        "You can see that the labels are strings. For model training purposes later on, we need to map these labels to integers. Thus, we will use a `LabelEncoder()`."
      ]
    },
    {
      "cell_type": "code",
      "execution_count": null,
      "metadata": {
        "colab": {
          "base_uri": "https://localhost:8080/"
        },
        "id": "KVv-zOwlNPXG",
        "outputId": "dc08ccd5-6fd5-4676-f76f-be25ced6cef9"
      },
      "outputs": [
        {
          "name": "stdout",
          "output_type": "stream",
          "text": [
            "['back.' 'buffer_overflow.' 'ftp_write.' 'guess_passwd.' 'imap.'\n",
            " 'ipsweep.' 'land.' 'loadmodule.' 'multihop.' 'neptune.' 'nmap.' 'normal.'\n",
            " 'perl.' 'phf.' 'pod.' 'portsweep.' 'rootkit.' 'satan.' 'smurf.' 'spy.'\n",
            " 'teardrop.' 'warezclient.' 'warezmaster.']\n"
          ]
        }
      ],
      "source": [
        "# here we train a label encoder so that we can map our classes to integers later for model training\n",
        "le = LabelEncoder()\n",
        "le.fit(df.label)\n",
        "print(le.classes_)"
      ]
    },
    {
      "cell_type": "markdown",
      "metadata": {
        "id": "aPgcjUejNPXG"
      },
      "source": [
        "### 1.2 Dataset Modification"
      ]
    },
    {
      "cell_type": "markdown",
      "metadata": {
        "id": "OFQenCugNPXH"
      },
      "source": [
        "Notice that the dataset has more anomalies than normal data. Reflect for a moment about the implications of having more anomalies might be. Reflect either here in the notebook, on a piece of paper, or with a peer sitting next to you."
      ]
    },
    {
      "cell_type": "raw",
      "metadata": {
        "id": "hf9jb9ypNPXH"
      },
      "source": [
        "Reflection:"
      ]
    },
    {
      "cell_type": "markdown",
      "metadata": {
        "id": "JGsIX_cONPXH"
      },
      "source": [
        "We'll come back to test your hypothesis shortly.\n",
        "\n",
        "<a id='return'></a>"
      ]
    },
    {
      "cell_type": "markdown",
      "metadata": {
        "id": "wlC3qYVNNPXH"
      },
      "source": [
        "### 1.3 Data Preprocessing"
      ]
    },
    {
      "cell_type": "markdown",
      "metadata": {
        "id": "oUbxSwQMNPXH"
      },
      "source": [
        "In order to train an XGBoost model, we have to encode the strings in categorical variables to numeric terms.\n",
        "\n",
        "We will use one-hot encoding to translate each of the 7 categorical features:  `protocol type`, `service`, `flag`, `land`, `logged_in`, `is_host_login`, `is_guest_login` using the Pandas function `get_dummies()`. One-hot encoding will transform the categorical variable into a numerical variable for each category. If a category takes ten values, then that categorical variable will be transformed into 10 numerical variables."
      ]
    },
    {
      "cell_type": "markdown",
      "metadata": {
        "id": "HiRRIOnbNPXH"
      },
      "source": [
        "### 1.4 One-hot Encode the Categorical Data"
      ]
    },
    {
      "cell_type": "markdown",
      "metadata": {
        "id": "Ly7e5px4KJcF"
      },
      "source": [
        "The independent variables in the data that are categorical need to be one-hot-encoded as well to prepare the data for model training."
      ]
    },
    {
      "cell_type": "code",
      "execution_count": null,
      "metadata": {
        "colab": {
          "base_uri": "https://localhost:8080/",
          "height": 226
        },
        "id": "zuav1qYVNPXH",
        "outputId": "c8a4b311-9189-4009-f196-58368181e40e"
      },
      "outputs": [
        {
          "data": {
            "text/html": [
              "<div>\n",
              "<style scoped>\n",
              "    .dataframe tbody tr th:only-of-type {\n",
              "        vertical-align: middle;\n",
              "    }\n",
              "\n",
              "    .dataframe tbody tr th {\n",
              "        vertical-align: top;\n",
              "    }\n",
              "\n",
              "    .dataframe thead th {\n",
              "        text-align: right;\n",
              "    }\n",
              "</style>\n",
              "<table border=\"1\" class=\"dataframe\">\n",
              "  <thead>\n",
              "    <tr style=\"text-align: right;\">\n",
              "      <th></th>\n",
              "      <th>land</th>\n",
              "      <th>logged_in</th>\n",
              "      <th>is_host_login</th>\n",
              "      <th>is_guest_login</th>\n",
              "      <th>protocol_type_icmp</th>\n",
              "      <th>protocol_type_tcp</th>\n",
              "      <th>protocol_type_udp</th>\n",
              "      <th>service_IRC</th>\n",
              "      <th>service_X11</th>\n",
              "      <th>service_Z39_50</th>\n",
              "      <th>service_aol</th>\n",
              "      <th>service_auth</th>\n",
              "      <th>service_bgp</th>\n",
              "      <th>service_courier</th>\n",
              "      <th>service_csnet_ns</th>\n",
              "      <th>service_ctf</th>\n",
              "      <th>service_daytime</th>\n",
              "      <th>service_discard</th>\n",
              "      <th>service_domain</th>\n",
              "      <th>service_domain_u</th>\n",
              "      <th>service_echo</th>\n",
              "      <th>service_eco_i</th>\n",
              "      <th>service_ecr_i</th>\n",
              "      <th>service_efs</th>\n",
              "      <th>service_exec</th>\n",
              "      <th>service_finger</th>\n",
              "      <th>service_ftp</th>\n",
              "      <th>service_ftp_data</th>\n",
              "      <th>service_gopher</th>\n",
              "      <th>service_harvest</th>\n",
              "      <th>service_hostnames</th>\n",
              "      <th>service_http</th>\n",
              "      <th>service_http_2784</th>\n",
              "      <th>service_http_443</th>\n",
              "      <th>service_http_8001</th>\n",
              "      <th>service_imap4</th>\n",
              "      <th>service_iso_tsap</th>\n",
              "      <th>service_klogin</th>\n",
              "      <th>service_kshell</th>\n",
              "      <th>service_ldap</th>\n",
              "      <th>service_link</th>\n",
              "      <th>service_login</th>\n",
              "      <th>service_mtp</th>\n",
              "      <th>service_name</th>\n",
              "      <th>service_netbios_dgm</th>\n",
              "      <th>service_netbios_ns</th>\n",
              "      <th>service_netbios_ssn</th>\n",
              "      <th>service_netstat</th>\n",
              "      <th>service_nnsp</th>\n",
              "      <th>service_nntp</th>\n",
              "      <th>service_ntp_u</th>\n",
              "      <th>service_other</th>\n",
              "      <th>service_pm_dump</th>\n",
              "      <th>service_pop_2</th>\n",
              "      <th>service_pop_3</th>\n",
              "      <th>service_printer</th>\n",
              "      <th>service_private</th>\n",
              "      <th>service_red_i</th>\n",
              "      <th>service_remote_job</th>\n",
              "      <th>service_rje</th>\n",
              "      <th>service_shell</th>\n",
              "      <th>service_smtp</th>\n",
              "      <th>service_sql_net</th>\n",
              "      <th>service_ssh</th>\n",
              "      <th>service_sunrpc</th>\n",
              "      <th>service_supdup</th>\n",
              "      <th>service_systat</th>\n",
              "      <th>service_telnet</th>\n",
              "      <th>service_tftp_u</th>\n",
              "      <th>service_tim_i</th>\n",
              "      <th>service_time</th>\n",
              "      <th>service_urh_i</th>\n",
              "      <th>service_urp_i</th>\n",
              "      <th>service_uucp</th>\n",
              "      <th>service_uucp_path</th>\n",
              "      <th>service_vmnet</th>\n",
              "      <th>service_whois</th>\n",
              "      <th>flag_OTH</th>\n",
              "      <th>flag_REJ</th>\n",
              "      <th>flag_RSTO</th>\n",
              "      <th>flag_RSTOS0</th>\n",
              "      <th>flag_RSTR</th>\n",
              "      <th>flag_S0</th>\n",
              "      <th>flag_S1</th>\n",
              "      <th>flag_S2</th>\n",
              "      <th>flag_S3</th>\n",
              "      <th>flag_SF</th>\n",
              "      <th>flag_SH</th>\n",
              "    </tr>\n",
              "  </thead>\n",
              "  <tbody>\n",
              "    <tr>\n",
              "      <th>0</th>\n",
              "      <td>0</td>\n",
              "      <td>1</td>\n",
              "      <td>0</td>\n",
              "      <td>0</td>\n",
              "      <td>0</td>\n",
              "      <td>1</td>\n",
              "      <td>0</td>\n",
              "      <td>0</td>\n",
              "      <td>0</td>\n",
              "      <td>0</td>\n",
              "      <td>0</td>\n",
              "      <td>0</td>\n",
              "      <td>0</td>\n",
              "      <td>0</td>\n",
              "      <td>0</td>\n",
              "      <td>0</td>\n",
              "      <td>0</td>\n",
              "      <td>0</td>\n",
              "      <td>0</td>\n",
              "      <td>0</td>\n",
              "      <td>0</td>\n",
              "      <td>0</td>\n",
              "      <td>0</td>\n",
              "      <td>0</td>\n",
              "      <td>0</td>\n",
              "      <td>0</td>\n",
              "      <td>0</td>\n",
              "      <td>0</td>\n",
              "      <td>0</td>\n",
              "      <td>0</td>\n",
              "      <td>0</td>\n",
              "      <td>1</td>\n",
              "      <td>0</td>\n",
              "      <td>0</td>\n",
              "      <td>0</td>\n",
              "      <td>0</td>\n",
              "      <td>0</td>\n",
              "      <td>0</td>\n",
              "      <td>0</td>\n",
              "      <td>0</td>\n",
              "      <td>0</td>\n",
              "      <td>0</td>\n",
              "      <td>0</td>\n",
              "      <td>0</td>\n",
              "      <td>0</td>\n",
              "      <td>0</td>\n",
              "      <td>0</td>\n",
              "      <td>0</td>\n",
              "      <td>0</td>\n",
              "      <td>0</td>\n",
              "      <td>0</td>\n",
              "      <td>0</td>\n",
              "      <td>0</td>\n",
              "      <td>0</td>\n",
              "      <td>0</td>\n",
              "      <td>0</td>\n",
              "      <td>0</td>\n",
              "      <td>0</td>\n",
              "      <td>0</td>\n",
              "      <td>0</td>\n",
              "      <td>0</td>\n",
              "      <td>0</td>\n",
              "      <td>0</td>\n",
              "      <td>0</td>\n",
              "      <td>0</td>\n",
              "      <td>0</td>\n",
              "      <td>0</td>\n",
              "      <td>0</td>\n",
              "      <td>0</td>\n",
              "      <td>0</td>\n",
              "      <td>0</td>\n",
              "      <td>0</td>\n",
              "      <td>0</td>\n",
              "      <td>0</td>\n",
              "      <td>0</td>\n",
              "      <td>0</td>\n",
              "      <td>0</td>\n",
              "      <td>0</td>\n",
              "      <td>0</td>\n",
              "      <td>0</td>\n",
              "      <td>0</td>\n",
              "      <td>0</td>\n",
              "      <td>0</td>\n",
              "      <td>0</td>\n",
              "      <td>0</td>\n",
              "      <td>0</td>\n",
              "      <td>1</td>\n",
              "      <td>0</td>\n",
              "    </tr>\n",
              "    <tr>\n",
              "      <th>1</th>\n",
              "      <td>0</td>\n",
              "      <td>1</td>\n",
              "      <td>0</td>\n",
              "      <td>0</td>\n",
              "      <td>0</td>\n",
              "      <td>1</td>\n",
              "      <td>0</td>\n",
              "      <td>0</td>\n",
              "      <td>0</td>\n",
              "      <td>0</td>\n",
              "      <td>0</td>\n",
              "      <td>0</td>\n",
              "      <td>0</td>\n",
              "      <td>0</td>\n",
              "      <td>0</td>\n",
              "      <td>0</td>\n",
              "      <td>0</td>\n",
              "      <td>0</td>\n",
              "      <td>0</td>\n",
              "      <td>0</td>\n",
              "      <td>0</td>\n",
              "      <td>0</td>\n",
              "      <td>0</td>\n",
              "      <td>0</td>\n",
              "      <td>0</td>\n",
              "      <td>0</td>\n",
              "      <td>0</td>\n",
              "      <td>0</td>\n",
              "      <td>0</td>\n",
              "      <td>0</td>\n",
              "      <td>0</td>\n",
              "      <td>1</td>\n",
              "      <td>0</td>\n",
              "      <td>0</td>\n",
              "      <td>0</td>\n",
              "      <td>0</td>\n",
              "      <td>0</td>\n",
              "      <td>0</td>\n",
              "      <td>0</td>\n",
              "      <td>0</td>\n",
              "      <td>0</td>\n",
              "      <td>0</td>\n",
              "      <td>0</td>\n",
              "      <td>0</td>\n",
              "      <td>0</td>\n",
              "      <td>0</td>\n",
              "      <td>0</td>\n",
              "      <td>0</td>\n",
              "      <td>0</td>\n",
              "      <td>0</td>\n",
              "      <td>0</td>\n",
              "      <td>0</td>\n",
              "      <td>0</td>\n",
              "      <td>0</td>\n",
              "      <td>0</td>\n",
              "      <td>0</td>\n",
              "      <td>0</td>\n",
              "      <td>0</td>\n",
              "      <td>0</td>\n",
              "      <td>0</td>\n",
              "      <td>0</td>\n",
              "      <td>0</td>\n",
              "      <td>0</td>\n",
              "      <td>0</td>\n",
              "      <td>0</td>\n",
              "      <td>0</td>\n",
              "      <td>0</td>\n",
              "      <td>0</td>\n",
              "      <td>0</td>\n",
              "      <td>0</td>\n",
              "      <td>0</td>\n",
              "      <td>0</td>\n",
              "      <td>0</td>\n",
              "      <td>0</td>\n",
              "      <td>0</td>\n",
              "      <td>0</td>\n",
              "      <td>0</td>\n",
              "      <td>0</td>\n",
              "      <td>0</td>\n",
              "      <td>0</td>\n",
              "      <td>0</td>\n",
              "      <td>0</td>\n",
              "      <td>0</td>\n",
              "      <td>0</td>\n",
              "      <td>0</td>\n",
              "      <td>0</td>\n",
              "      <td>1</td>\n",
              "      <td>0</td>\n",
              "    </tr>\n",
              "    <tr>\n",
              "      <th>2</th>\n",
              "      <td>0</td>\n",
              "      <td>1</td>\n",
              "      <td>0</td>\n",
              "      <td>0</td>\n",
              "      <td>0</td>\n",
              "      <td>1</td>\n",
              "      <td>0</td>\n",
              "      <td>0</td>\n",
              "      <td>0</td>\n",
              "      <td>0</td>\n",
              "      <td>0</td>\n",
              "      <td>0</td>\n",
              "      <td>0</td>\n",
              "      <td>0</td>\n",
              "      <td>0</td>\n",
              "      <td>0</td>\n",
              "      <td>0</td>\n",
              "      <td>0</td>\n",
              "      <td>0</td>\n",
              "      <td>0</td>\n",
              "      <td>0</td>\n",
              "      <td>0</td>\n",
              "      <td>0</td>\n",
              "      <td>0</td>\n",
              "      <td>0</td>\n",
              "      <td>0</td>\n",
              "      <td>0</td>\n",
              "      <td>0</td>\n",
              "      <td>0</td>\n",
              "      <td>0</td>\n",
              "      <td>0</td>\n",
              "      <td>1</td>\n",
              "      <td>0</td>\n",
              "      <td>0</td>\n",
              "      <td>0</td>\n",
              "      <td>0</td>\n",
              "      <td>0</td>\n",
              "      <td>0</td>\n",
              "      <td>0</td>\n",
              "      <td>0</td>\n",
              "      <td>0</td>\n",
              "      <td>0</td>\n",
              "      <td>0</td>\n",
              "      <td>0</td>\n",
              "      <td>0</td>\n",
              "      <td>0</td>\n",
              "      <td>0</td>\n",
              "      <td>0</td>\n",
              "      <td>0</td>\n",
              "      <td>0</td>\n",
              "      <td>0</td>\n",
              "      <td>0</td>\n",
              "      <td>0</td>\n",
              "      <td>0</td>\n",
              "      <td>0</td>\n",
              "      <td>0</td>\n",
              "      <td>0</td>\n",
              "      <td>0</td>\n",
              "      <td>0</td>\n",
              "      <td>0</td>\n",
              "      <td>0</td>\n",
              "      <td>0</td>\n",
              "      <td>0</td>\n",
              "      <td>0</td>\n",
              "      <td>0</td>\n",
              "      <td>0</td>\n",
              "      <td>0</td>\n",
              "      <td>0</td>\n",
              "      <td>0</td>\n",
              "      <td>0</td>\n",
              "      <td>0</td>\n",
              "      <td>0</td>\n",
              "      <td>0</td>\n",
              "      <td>0</td>\n",
              "      <td>0</td>\n",
              "      <td>0</td>\n",
              "      <td>0</td>\n",
              "      <td>0</td>\n",
              "      <td>0</td>\n",
              "      <td>0</td>\n",
              "      <td>0</td>\n",
              "      <td>0</td>\n",
              "      <td>0</td>\n",
              "      <td>0</td>\n",
              "      <td>0</td>\n",
              "      <td>0</td>\n",
              "      <td>1</td>\n",
              "      <td>0</td>\n",
              "    </tr>\n",
              "    <tr>\n",
              "      <th>3</th>\n",
              "      <td>0</td>\n",
              "      <td>1</td>\n",
              "      <td>0</td>\n",
              "      <td>0</td>\n",
              "      <td>0</td>\n",
              "      <td>1</td>\n",
              "      <td>0</td>\n",
              "      <td>0</td>\n",
              "      <td>0</td>\n",
              "      <td>0</td>\n",
              "      <td>0</td>\n",
              "      <td>0</td>\n",
              "      <td>0</td>\n",
              "      <td>0</td>\n",
              "      <td>0</td>\n",
              "      <td>0</td>\n",
              "      <td>0</td>\n",
              "      <td>0</td>\n",
              "      <td>0</td>\n",
              "      <td>0</td>\n",
              "      <td>0</td>\n",
              "      <td>0</td>\n",
              "      <td>0</td>\n",
              "      <td>0</td>\n",
              "      <td>0</td>\n",
              "      <td>0</td>\n",
              "      <td>0</td>\n",
              "      <td>0</td>\n",
              "      <td>0</td>\n",
              "      <td>0</td>\n",
              "      <td>0</td>\n",
              "      <td>1</td>\n",
              "      <td>0</td>\n",
              "      <td>0</td>\n",
              "      <td>0</td>\n",
              "      <td>0</td>\n",
              "      <td>0</td>\n",
              "      <td>0</td>\n",
              "      <td>0</td>\n",
              "      <td>0</td>\n",
              "      <td>0</td>\n",
              "      <td>0</td>\n",
              "      <td>0</td>\n",
              "      <td>0</td>\n",
              "      <td>0</td>\n",
              "      <td>0</td>\n",
              "      <td>0</td>\n",
              "      <td>0</td>\n",
              "      <td>0</td>\n",
              "      <td>0</td>\n",
              "      <td>0</td>\n",
              "      <td>0</td>\n",
              "      <td>0</td>\n",
              "      <td>0</td>\n",
              "      <td>0</td>\n",
              "      <td>0</td>\n",
              "      <td>0</td>\n",
              "      <td>0</td>\n",
              "      <td>0</td>\n",
              "      <td>0</td>\n",
              "      <td>0</td>\n",
              "      <td>0</td>\n",
              "      <td>0</td>\n",
              "      <td>0</td>\n",
              "      <td>0</td>\n",
              "      <td>0</td>\n",
              "      <td>0</td>\n",
              "      <td>0</td>\n",
              "      <td>0</td>\n",
              "      <td>0</td>\n",
              "      <td>0</td>\n",
              "      <td>0</td>\n",
              "      <td>0</td>\n",
              "      <td>0</td>\n",
              "      <td>0</td>\n",
              "      <td>0</td>\n",
              "      <td>0</td>\n",
              "      <td>0</td>\n",
              "      <td>0</td>\n",
              "      <td>0</td>\n",
              "      <td>0</td>\n",
              "      <td>0</td>\n",
              "      <td>0</td>\n",
              "      <td>0</td>\n",
              "      <td>0</td>\n",
              "      <td>0</td>\n",
              "      <td>1</td>\n",
              "      <td>0</td>\n",
              "    </tr>\n",
              "    <tr>\n",
              "      <th>4</th>\n",
              "      <td>0</td>\n",
              "      <td>1</td>\n",
              "      <td>0</td>\n",
              "      <td>0</td>\n",
              "      <td>0</td>\n",
              "      <td>1</td>\n",
              "      <td>0</td>\n",
              "      <td>0</td>\n",
              "      <td>0</td>\n",
              "      <td>0</td>\n",
              "      <td>0</td>\n",
              "      <td>0</td>\n",
              "      <td>0</td>\n",
              "      <td>0</td>\n",
              "      <td>0</td>\n",
              "      <td>0</td>\n",
              "      <td>0</td>\n",
              "      <td>0</td>\n",
              "      <td>0</td>\n",
              "      <td>0</td>\n",
              "      <td>0</td>\n",
              "      <td>0</td>\n",
              "      <td>0</td>\n",
              "      <td>0</td>\n",
              "      <td>0</td>\n",
              "      <td>0</td>\n",
              "      <td>0</td>\n",
              "      <td>0</td>\n",
              "      <td>0</td>\n",
              "      <td>0</td>\n",
              "      <td>0</td>\n",
              "      <td>1</td>\n",
              "      <td>0</td>\n",
              "      <td>0</td>\n",
              "      <td>0</td>\n",
              "      <td>0</td>\n",
              "      <td>0</td>\n",
              "      <td>0</td>\n",
              "      <td>0</td>\n",
              "      <td>0</td>\n",
              "      <td>0</td>\n",
              "      <td>0</td>\n",
              "      <td>0</td>\n",
              "      <td>0</td>\n",
              "      <td>0</td>\n",
              "      <td>0</td>\n",
              "      <td>0</td>\n",
              "      <td>0</td>\n",
              "      <td>0</td>\n",
              "      <td>0</td>\n",
              "      <td>0</td>\n",
              "      <td>0</td>\n",
              "      <td>0</td>\n",
              "      <td>0</td>\n",
              "      <td>0</td>\n",
              "      <td>0</td>\n",
              "      <td>0</td>\n",
              "      <td>0</td>\n",
              "      <td>0</td>\n",
              "      <td>0</td>\n",
              "      <td>0</td>\n",
              "      <td>0</td>\n",
              "      <td>0</td>\n",
              "      <td>0</td>\n",
              "      <td>0</td>\n",
              "      <td>0</td>\n",
              "      <td>0</td>\n",
              "      <td>0</td>\n",
              "      <td>0</td>\n",
              "      <td>0</td>\n",
              "      <td>0</td>\n",
              "      <td>0</td>\n",
              "      <td>0</td>\n",
              "      <td>0</td>\n",
              "      <td>0</td>\n",
              "      <td>0</td>\n",
              "      <td>0</td>\n",
              "      <td>0</td>\n",
              "      <td>0</td>\n",
              "      <td>0</td>\n",
              "      <td>0</td>\n",
              "      <td>0</td>\n",
              "      <td>0</td>\n",
              "      <td>0</td>\n",
              "      <td>0</td>\n",
              "      <td>0</td>\n",
              "      <td>1</td>\n",
              "      <td>0</td>\n",
              "    </tr>\n",
              "  </tbody>\n",
              "</table>\n",
              "</div>"
            ],
            "text/plain": [
              "   land  logged_in  is_host_login  is_guest_login  protocol_type_icmp  \\\n",
              "0     0          1              0               0                   0   \n",
              "1     0          1              0               0                   0   \n",
              "2     0          1              0               0                   0   \n",
              "3     0          1              0               0                   0   \n",
              "4     0          1              0               0                   0   \n",
              "\n",
              "   protocol_type_tcp  protocol_type_udp  service_IRC  service_X11  \\\n",
              "0                  1                  0            0            0   \n",
              "1                  1                  0            0            0   \n",
              "2                  1                  0            0            0   \n",
              "3                  1                  0            0            0   \n",
              "4                  1                  0            0            0   \n",
              "\n",
              "   service_Z39_50  service_aol  service_auth  service_bgp  service_courier  \\\n",
              "0               0            0             0            0                0   \n",
              "1               0            0             0            0                0   \n",
              "2               0            0             0            0                0   \n",
              "3               0            0             0            0                0   \n",
              "4               0            0             0            0                0   \n",
              "\n",
              "   service_csnet_ns  service_ctf  service_daytime  service_discard  \\\n",
              "0                 0            0                0                0   \n",
              "1                 0            0                0                0   \n",
              "2                 0            0                0                0   \n",
              "3                 0            0                0                0   \n",
              "4                 0            0                0                0   \n",
              "\n",
              "   service_domain  service_domain_u  service_echo  service_eco_i  \\\n",
              "0               0                 0             0              0   \n",
              "1               0                 0             0              0   \n",
              "2               0                 0             0              0   \n",
              "3               0                 0             0              0   \n",
              "4               0                 0             0              0   \n",
              "\n",
              "   service_ecr_i  service_efs  service_exec  service_finger  service_ftp  \\\n",
              "0              0            0             0               0            0   \n",
              "1              0            0             0               0            0   \n",
              "2              0            0             0               0            0   \n",
              "3              0            0             0               0            0   \n",
              "4              0            0             0               0            0   \n",
              "\n",
              "   service_ftp_data  service_gopher  service_harvest  service_hostnames  \\\n",
              "0                 0               0                0                  0   \n",
              "1                 0               0                0                  0   \n",
              "2                 0               0                0                  0   \n",
              "3                 0               0                0                  0   \n",
              "4                 0               0                0                  0   \n",
              "\n",
              "   service_http  service_http_2784  service_http_443  service_http_8001  \\\n",
              "0             1                  0                 0                  0   \n",
              "1             1                  0                 0                  0   \n",
              "2             1                  0                 0                  0   \n",
              "3             1                  0                 0                  0   \n",
              "4             1                  0                 0                  0   \n",
              "\n",
              "   service_imap4  service_iso_tsap  service_klogin  service_kshell  \\\n",
              "0              0                 0               0               0   \n",
              "1              0                 0               0               0   \n",
              "2              0                 0               0               0   \n",
              "3              0                 0               0               0   \n",
              "4              0                 0               0               0   \n",
              "\n",
              "   service_ldap  service_link  service_login  service_mtp  service_name  \\\n",
              "0             0             0              0            0             0   \n",
              "1             0             0              0            0             0   \n",
              "2             0             0              0            0             0   \n",
              "3             0             0              0            0             0   \n",
              "4             0             0              0            0             0   \n",
              "\n",
              "   service_netbios_dgm  service_netbios_ns  service_netbios_ssn  \\\n",
              "0                    0                   0                    0   \n",
              "1                    0                   0                    0   \n",
              "2                    0                   0                    0   \n",
              "3                    0                   0                    0   \n",
              "4                    0                   0                    0   \n",
              "\n",
              "   service_netstat  service_nnsp  service_nntp  service_ntp_u  service_other  \\\n",
              "0                0             0             0              0              0   \n",
              "1                0             0             0              0              0   \n",
              "2                0             0             0              0              0   \n",
              "3                0             0             0              0              0   \n",
              "4                0             0             0              0              0   \n",
              "\n",
              "   service_pm_dump  service_pop_2  service_pop_3  service_printer  \\\n",
              "0                0              0              0                0   \n",
              "1                0              0              0                0   \n",
              "2                0              0              0                0   \n",
              "3                0              0              0                0   \n",
              "4                0              0              0                0   \n",
              "\n",
              "   service_private  service_red_i  service_remote_job  service_rje  \\\n",
              "0                0              0                   0            0   \n",
              "1                0              0                   0            0   \n",
              "2                0              0                   0            0   \n",
              "3                0              0                   0            0   \n",
              "4                0              0                   0            0   \n",
              "\n",
              "   service_shell  service_smtp  service_sql_net  service_ssh  service_sunrpc  \\\n",
              "0              0             0                0            0               0   \n",
              "1              0             0                0            0               0   \n",
              "2              0             0                0            0               0   \n",
              "3              0             0                0            0               0   \n",
              "4              0             0                0            0               0   \n",
              "\n",
              "   service_supdup  service_systat  service_telnet  service_tftp_u  \\\n",
              "0               0               0               0               0   \n",
              "1               0               0               0               0   \n",
              "2               0               0               0               0   \n",
              "3               0               0               0               0   \n",
              "4               0               0               0               0   \n",
              "\n",
              "   service_tim_i  service_time  service_urh_i  service_urp_i  service_uucp  \\\n",
              "0              0             0              0              0             0   \n",
              "1              0             0              0              0             0   \n",
              "2              0             0              0              0             0   \n",
              "3              0             0              0              0             0   \n",
              "4              0             0              0              0             0   \n",
              "\n",
              "   service_uucp_path  service_vmnet  service_whois  flag_OTH  flag_REJ  \\\n",
              "0                  0              0              0         0         0   \n",
              "1                  0              0              0         0         0   \n",
              "2                  0              0              0         0         0   \n",
              "3                  0              0              0         0         0   \n",
              "4                  0              0              0         0         0   \n",
              "\n",
              "   flag_RSTO  flag_RSTOS0  flag_RSTR  flag_S0  flag_S1  flag_S2  flag_S3  \\\n",
              "0          0            0          0        0        0        0        0   \n",
              "1          0            0          0        0        0        0        0   \n",
              "2          0            0          0        0        0        0        0   \n",
              "3          0            0          0        0        0        0        0   \n",
              "4          0            0          0        0        0        0        0   \n",
              "\n",
              "   flag_SF  flag_SH  \n",
              "0        1        0  \n",
              "1        1        0  \n",
              "2        1        0  \n",
              "3        1        0  \n",
              "4        1        0  "
            ]
          },
          "execution_count": 55,
          "metadata": {},
          "output_type": "execute_result"
        }
      ],
      "source": [
        "# capture the categorical variables and one-hot encode them\n",
        "cat_vars = ['protocol_type', 'service', 'flag', 'land', 'logged_in','is_host_login', 'is_guest_login']\n",
        "\n",
        "# find unique labels for each category\n",
        "cat_data = pd.get_dummies(df[cat_vars])\n",
        "\n",
        "# check that the categorical variables were created correctly\n",
        "cat_data.head()"
      ]
    },
    {
      "cell_type": "markdown",
      "metadata": {
        "id": "rlM9gX9zNPXH"
      },
      "source": [
        "<br>\n",
        "Scroll to the right to notice the new categories that were created. For example, the categorical variable \"protocol_type\" is split into three categories, protocol_type_icmp, protocol_type_tcp and protocol_type_udp. Now that the one hot encoding of the categorical data is done, we need to merge the numerical data from the original data.\n",
        "<br>\n",
        "<br>"
      ]
    },
    {
      "cell_type": "code",
      "execution_count": null,
      "metadata": {
        "colab": {
          "base_uri": "https://localhost:8080/",
          "height": 226
        },
        "id": "KGQrqTC9NPXI",
        "outputId": "70f430f9-3b13-4f1f-8341-e40d692ed088"
      },
      "outputs": [
        {
          "data": {
            "text/html": [
              "<div>\n",
              "<style scoped>\n",
              "    .dataframe tbody tr th:only-of-type {\n",
              "        vertical-align: middle;\n",
              "    }\n",
              "\n",
              "    .dataframe tbody tr th {\n",
              "        vertical-align: top;\n",
              "    }\n",
              "\n",
              "    .dataframe thead th {\n",
              "        text-align: right;\n",
              "    }\n",
              "</style>\n",
              "<table border=\"1\" class=\"dataframe\">\n",
              "  <thead>\n",
              "    <tr style=\"text-align: right;\">\n",
              "      <th></th>\n",
              "      <th>srv_count</th>\n",
              "      <th>srv_serror_rate</th>\n",
              "      <th>root_shell</th>\n",
              "      <th>dst_host_same_src_port_rate</th>\n",
              "      <th>su_attempted</th>\n",
              "      <th>num_shells</th>\n",
              "      <th>dst_host_srv_diff_host_rate</th>\n",
              "      <th>num_outbound_cmds</th>\n",
              "      <th>dst_host_count</th>\n",
              "      <th>dst_host_srv_serror_rate</th>\n",
              "      <th>dst_host_srv_rerror_rate</th>\n",
              "      <th>duration</th>\n",
              "      <th>dst_bytes</th>\n",
              "      <th>dst_host_rerror_rate</th>\n",
              "      <th>serror_rate</th>\n",
              "      <th>dst_host_serror_rate</th>\n",
              "      <th>same_srv_rate</th>\n",
              "      <th>diff_srv_rate</th>\n",
              "      <th>srv_diff_host_rate</th>\n",
              "      <th>rerror_rate</th>\n",
              "      <th>num_root</th>\n",
              "      <th>num_file_creations</th>\n",
              "      <th>wrong_fragment</th>\n",
              "      <th>num_compromised</th>\n",
              "      <th>dst_host_same_srv_rate</th>\n",
              "      <th>dst_host_diff_srv_rate</th>\n",
              "      <th>hot</th>\n",
              "      <th>src_bytes</th>\n",
              "      <th>count</th>\n",
              "      <th>srv_rerror_rate</th>\n",
              "      <th>num_access_files</th>\n",
              "      <th>urgent</th>\n",
              "      <th>dst_host_srv_count</th>\n",
              "      <th>num_failed_logins</th>\n",
              "    </tr>\n",
              "  </thead>\n",
              "  <tbody>\n",
              "    <tr>\n",
              "      <th>0</th>\n",
              "      <td>1</td>\n",
              "      <td>0.0</td>\n",
              "      <td>0</td>\n",
              "      <td>0.00</td>\n",
              "      <td>0</td>\n",
              "      <td>0</td>\n",
              "      <td>0.0</td>\n",
              "      <td>0</td>\n",
              "      <td>0</td>\n",
              "      <td>0.0</td>\n",
              "      <td>0.0</td>\n",
              "      <td>0</td>\n",
              "      <td>45076</td>\n",
              "      <td>0.0</td>\n",
              "      <td>0.0</td>\n",
              "      <td>0.0</td>\n",
              "      <td>1.0</td>\n",
              "      <td>0.0</td>\n",
              "      <td>0.0</td>\n",
              "      <td>0.0</td>\n",
              "      <td>0</td>\n",
              "      <td>0</td>\n",
              "      <td>0</td>\n",
              "      <td>0</td>\n",
              "      <td>0.0</td>\n",
              "      <td>0.0</td>\n",
              "      <td>0</td>\n",
              "      <td>215</td>\n",
              "      <td>1</td>\n",
              "      <td>0.0</td>\n",
              "      <td>0</td>\n",
              "      <td>0</td>\n",
              "      <td>0</td>\n",
              "      <td>0</td>\n",
              "    </tr>\n",
              "    <tr>\n",
              "      <th>1</th>\n",
              "      <td>2</td>\n",
              "      <td>0.0</td>\n",
              "      <td>0</td>\n",
              "      <td>1.00</td>\n",
              "      <td>0</td>\n",
              "      <td>0</td>\n",
              "      <td>0.0</td>\n",
              "      <td>0</td>\n",
              "      <td>1</td>\n",
              "      <td>0.0</td>\n",
              "      <td>0.0</td>\n",
              "      <td>0</td>\n",
              "      <td>4528</td>\n",
              "      <td>0.0</td>\n",
              "      <td>0.0</td>\n",
              "      <td>0.0</td>\n",
              "      <td>1.0</td>\n",
              "      <td>0.0</td>\n",
              "      <td>0.0</td>\n",
              "      <td>0.0</td>\n",
              "      <td>0</td>\n",
              "      <td>0</td>\n",
              "      <td>0</td>\n",
              "      <td>0</td>\n",
              "      <td>1.0</td>\n",
              "      <td>0.0</td>\n",
              "      <td>0</td>\n",
              "      <td>162</td>\n",
              "      <td>2</td>\n",
              "      <td>0.0</td>\n",
              "      <td>0</td>\n",
              "      <td>0</td>\n",
              "      <td>1</td>\n",
              "      <td>0</td>\n",
              "    </tr>\n",
              "    <tr>\n",
              "      <th>2</th>\n",
              "      <td>1</td>\n",
              "      <td>0.0</td>\n",
              "      <td>0</td>\n",
              "      <td>0.50</td>\n",
              "      <td>0</td>\n",
              "      <td>0</td>\n",
              "      <td>0.0</td>\n",
              "      <td>0</td>\n",
              "      <td>2</td>\n",
              "      <td>0.0</td>\n",
              "      <td>0.0</td>\n",
              "      <td>0</td>\n",
              "      <td>1228</td>\n",
              "      <td>0.0</td>\n",
              "      <td>0.0</td>\n",
              "      <td>0.0</td>\n",
              "      <td>1.0</td>\n",
              "      <td>0.0</td>\n",
              "      <td>0.0</td>\n",
              "      <td>0.0</td>\n",
              "      <td>0</td>\n",
              "      <td>0</td>\n",
              "      <td>0</td>\n",
              "      <td>0</td>\n",
              "      <td>1.0</td>\n",
              "      <td>0.0</td>\n",
              "      <td>0</td>\n",
              "      <td>236</td>\n",
              "      <td>1</td>\n",
              "      <td>0.0</td>\n",
              "      <td>0</td>\n",
              "      <td>0</td>\n",
              "      <td>2</td>\n",
              "      <td>0</td>\n",
              "    </tr>\n",
              "    <tr>\n",
              "      <th>3</th>\n",
              "      <td>2</td>\n",
              "      <td>0.0</td>\n",
              "      <td>0</td>\n",
              "      <td>0.33</td>\n",
              "      <td>0</td>\n",
              "      <td>0</td>\n",
              "      <td>0.0</td>\n",
              "      <td>0</td>\n",
              "      <td>3</td>\n",
              "      <td>0.0</td>\n",
              "      <td>0.0</td>\n",
              "      <td>0</td>\n",
              "      <td>2032</td>\n",
              "      <td>0.0</td>\n",
              "      <td>0.0</td>\n",
              "      <td>0.0</td>\n",
              "      <td>1.0</td>\n",
              "      <td>0.0</td>\n",
              "      <td>0.0</td>\n",
              "      <td>0.0</td>\n",
              "      <td>0</td>\n",
              "      <td>0</td>\n",
              "      <td>0</td>\n",
              "      <td>0</td>\n",
              "      <td>1.0</td>\n",
              "      <td>0.0</td>\n",
              "      <td>0</td>\n",
              "      <td>233</td>\n",
              "      <td>2</td>\n",
              "      <td>0.0</td>\n",
              "      <td>0</td>\n",
              "      <td>0</td>\n",
              "      <td>3</td>\n",
              "      <td>0</td>\n",
              "    </tr>\n",
              "    <tr>\n",
              "      <th>4</th>\n",
              "      <td>3</td>\n",
              "      <td>0.0</td>\n",
              "      <td>0</td>\n",
              "      <td>0.25</td>\n",
              "      <td>0</td>\n",
              "      <td>0</td>\n",
              "      <td>0.0</td>\n",
              "      <td>0</td>\n",
              "      <td>4</td>\n",
              "      <td>0.0</td>\n",
              "      <td>0.0</td>\n",
              "      <td>0</td>\n",
              "      <td>486</td>\n",
              "      <td>0.0</td>\n",
              "      <td>0.0</td>\n",
              "      <td>0.0</td>\n",
              "      <td>1.0</td>\n",
              "      <td>0.0</td>\n",
              "      <td>0.0</td>\n",
              "      <td>0.0</td>\n",
              "      <td>0</td>\n",
              "      <td>0</td>\n",
              "      <td>0</td>\n",
              "      <td>0</td>\n",
              "      <td>1.0</td>\n",
              "      <td>0.0</td>\n",
              "      <td>0</td>\n",
              "      <td>239</td>\n",
              "      <td>3</td>\n",
              "      <td>0.0</td>\n",
              "      <td>0</td>\n",
              "      <td>0</td>\n",
              "      <td>4</td>\n",
              "      <td>0</td>\n",
              "    </tr>\n",
              "  </tbody>\n",
              "</table>\n",
              "</div>"
            ],
            "text/plain": [
              "   srv_count  srv_serror_rate  root_shell  dst_host_same_src_port_rate  \\\n",
              "0          1              0.0           0                         0.00   \n",
              "1          2              0.0           0                         1.00   \n",
              "2          1              0.0           0                         0.50   \n",
              "3          2              0.0           0                         0.33   \n",
              "4          3              0.0           0                         0.25   \n",
              "\n",
              "   su_attempted  num_shells  dst_host_srv_diff_host_rate  num_outbound_cmds  \\\n",
              "0             0           0                          0.0                  0   \n",
              "1             0           0                          0.0                  0   \n",
              "2             0           0                          0.0                  0   \n",
              "3             0           0                          0.0                  0   \n",
              "4             0           0                          0.0                  0   \n",
              "\n",
              "   dst_host_count  dst_host_srv_serror_rate  dst_host_srv_rerror_rate  \\\n",
              "0               0                       0.0                       0.0   \n",
              "1               1                       0.0                       0.0   \n",
              "2               2                       0.0                       0.0   \n",
              "3               3                       0.0                       0.0   \n",
              "4               4                       0.0                       0.0   \n",
              "\n",
              "   duration  dst_bytes  dst_host_rerror_rate  serror_rate  \\\n",
              "0         0      45076                   0.0          0.0   \n",
              "1         0       4528                   0.0          0.0   \n",
              "2         0       1228                   0.0          0.0   \n",
              "3         0       2032                   0.0          0.0   \n",
              "4         0        486                   0.0          0.0   \n",
              "\n",
              "   dst_host_serror_rate  same_srv_rate  diff_srv_rate  srv_diff_host_rate  \\\n",
              "0                   0.0            1.0            0.0                 0.0   \n",
              "1                   0.0            1.0            0.0                 0.0   \n",
              "2                   0.0            1.0            0.0                 0.0   \n",
              "3                   0.0            1.0            0.0                 0.0   \n",
              "4                   0.0            1.0            0.0                 0.0   \n",
              "\n",
              "   rerror_rate  num_root  num_file_creations  wrong_fragment  num_compromised  \\\n",
              "0          0.0         0                   0               0                0   \n",
              "1          0.0         0                   0               0                0   \n",
              "2          0.0         0                   0               0                0   \n",
              "3          0.0         0                   0               0                0   \n",
              "4          0.0         0                   0               0                0   \n",
              "\n",
              "   dst_host_same_srv_rate  dst_host_diff_srv_rate  hot  src_bytes  count  \\\n",
              "0                     0.0                     0.0    0        215      1   \n",
              "1                     1.0                     0.0    0        162      2   \n",
              "2                     1.0                     0.0    0        236      1   \n",
              "3                     1.0                     0.0    0        233      2   \n",
              "4                     1.0                     0.0    0        239      3   \n",
              "\n",
              "   srv_rerror_rate  num_access_files  urgent  dst_host_srv_count  \\\n",
              "0              0.0                 0       0                   0   \n",
              "1              0.0                 0       0                   1   \n",
              "2              0.0                 0       0                   2   \n",
              "3              0.0                 0       0                   3   \n",
              "4              0.0                 0       0                   4   \n",
              "\n",
              "   num_failed_logins  \n",
              "0                  0  \n",
              "1                  0  \n",
              "2                  0  \n",
              "3                  0  \n",
              "4                  0  "
            ]
          },
          "execution_count": 56,
          "metadata": {},
          "output_type": "execute_result"
        }
      ],
      "source": [
        "numeric_vars = list(set(df.columns.values.tolist()) - set(cat_vars))\n",
        "numeric_vars.remove('label')\n",
        "numeric_data = df[numeric_vars].copy()\n",
        "\n",
        "# check that the numeric data has been captured accurately\n",
        "numeric_data.head()"
      ]
    },
    {
      "cell_type": "code",
      "execution_count": null,
      "metadata": {
        "colab": {
          "base_uri": "https://localhost:8080/"
        },
        "id": "ZVKu9FbyNPXI",
        "outputId": "b6633a33-c9e4-41ae-994e-ea6665d4edae"
      },
      "outputs": [
        {
          "name": "stdout",
          "output_type": "stream",
          "text": [
            "(4898431, 88)\n",
            "(4898431, 34)\n",
            "(4898431, 122)\n"
          ]
        }
      ],
      "source": [
        "# concatenate numeric and the encoded categorical variables\n",
        "numeric_cat_data = pd.concat([numeric_data, cat_data], axis=1)\n",
        "\n",
        "# here we do a quick sanity check that the data has been concatenated correctly by checking the dimension of the vectors\n",
        "print(cat_data.shape)\n",
        "print(numeric_data.shape)\n",
        "print(numeric_cat_data.shape)"
      ]
    },
    {
      "cell_type": "markdown",
      "metadata": {
        "id": "PE7Zi43YNPXI"
      },
      "source": [
        "<br>\n",
        "Now let's split the data into training set and test set in the ratio of 75:25. We will be using <a href=\"https://scikit-learn.org/stable/modules/generated/sklearn.preprocessing.LabelEncoder.html\">LabelEncoder</a>, <a href=\"https://scikit-learn.org/stable/modules/generated/sklearn.preprocessing.StandardScaler.html#sklearn.preprocessing.StandardScaler.fit_transform\">fit_transform</a> and <a href=\"https://scikit-https://scikit-learn.org/stable/modules/generated/sklearn.model_selection.train_test_split.html\">train_test_split</a> from scikit-learn.\n",
        "<br>"
      ]
    },
    {
      "cell_type": "code",
      "execution_count": null,
      "metadata": {
        "id": "PSWUbstdNPXI"
      },
      "outputs": [],
      "source": [
        "# capture the labels\n",
        "labels = df['label'].copy()\n",
        "\n",
        "# convert labels to integers\n",
        "integer_labels = le.transform(labels)\n",
        "\n",
        "# split data into test and train\n",
        "x_train, x_test, y_train, y_test = train_test_split(numeric_cat_data,\n",
        "                                                    integer_labels,\n",
        "                                                    test_size=.25,\n",
        "                                                    random_state=42)"
      ]
    },
    {
      "cell_type": "markdown",
      "metadata": {
        "id": "8TsLoIERNPXI"
      },
      "source": [
        "<br>\n",
        "We can inspect the dimension of the testing set and the training set to confirm that the data has been split correctly. We will also save the dataset to be used in the later portion of this lab and in lab-2 by \"pickling\" the data. Pickling allows us to save a python object as a binary file.\n",
        "<br>"
      ]
    },
    {
      "cell_type": "code",
      "execution_count": null,
      "metadata": {
        "colab": {
          "base_uri": "https://localhost:8080/"
        },
        "id": "8VBLU3w3NPXI",
        "outputId": "416e69ff-9b22-43b2-a148-773f0a1148ed"
      },
      "outputs": [
        {
          "name": "stdout",
          "output_type": "stream",
          "text": [
            "(3673823, 122)\n",
            "(3673823,)\n",
            "(1224608, 122)\n",
            "(1224608,)\n"
          ]
        }
      ],
      "source": [
        "# check that the dimensions of our train and test sets are okay\n",
        "print(x_train.shape)\n",
        "print(y_train.shape)\n",
        "print(x_test.shape)\n",
        "print(y_test.shape)"
      ]
    },
    {
      "cell_type": "code",
      "execution_count": null,
      "metadata": {
        "id": "_TE5c0N5NPXI"
      },
      "outputs": [],
      "source": [
        "# save the datasets for later use\n",
        "preprocessed_data = {\n",
        "    'x_train':x_train,\n",
        "    'y_train':y_train,\n",
        "    'x_test':x_test,\n",
        "    'y_test':y_test,\n",
        "    'le':le\n",
        "}\n",
        "\n",
        "# pickle the preprocessed_data\n",
        "# If opened on Colab, you will need to check your confirm directory to see where you are saving setting your path to.\n",
        "# Alternatively, just edit the path to reflect your code directory.\n",
        "path = 'preprocessed_data_full.pkl'\n",
        "\n",
        "out = open(path, 'wb')\n",
        "pickle.dump(preprocessed_data, out)\n",
        "out.close()"
      ]
    },
    {
      "cell_type": "markdown",
      "metadata": {
        "id": "LvL4aqPpNPXI"
      },
      "source": [
        "We will approach this anomaly detection problem in two ways:\n",
        "\n",
        "1. Implementing binary classification where we will label the Normal frames as '0' and Anomalous frames as '1' and use a 'one vs all' approach to detect an anomalous frame\n",
        "2. Implementing multi-class classification where we will be able to detect the *type* of anomaly as well using our original y_train and y_test labels"
      ]
    },
    {
      "cell_type": "markdown",
      "metadata": {
        "id": "NiHmq2q-NPXI"
      },
      "source": [
        "## Section 2: Training a Binary Classifier"
      ]
    },
    {
      "cell_type": "markdown",
      "metadata": {
        "id": "Y_PxRroHNPXI"
      },
      "source": [
        "In the following cell, you will convert to binary labels. Remember what you do here as you will implement the multi-class solution yourself later."
      ]
    },
    {
      "cell_type": "code",
      "execution_count": null,
      "metadata": {
        "colab": {
          "base_uri": "https://localhost:8080/"
        },
        "id": "fJ_km5qtNPXI",
        "outputId": "9e40eefd-4ee2-412d-f9d3-fbce60900875"
      },
      "outputs": [
        {
          "name": "stdout",
          "output_type": "stream",
          "text": [
            "Number of anomalies in y_train:  2944214\n",
            "Number of anomalies in y_test:   981436\n"
          ]
        }
      ],
      "source": [
        "def convert_label_to_binary(label_encoder, labels):\n",
        "    normal_idx = np.where(label_encoder.classes_ == 'normal.')[0][0]\n",
        "    my_labels = labels.copy()\n",
        "    my_labels[my_labels != normal_idx] = 1\n",
        "    my_labels[my_labels == normal_idx] = 0\n",
        "    return my_labels\n",
        "\n",
        "binary_y_train = convert_label_to_binary(le, y_train)\n",
        "binary_y_test = convert_label_to_binary(le, y_test)\n",
        "\n",
        "# check how many anomalies are in our labels\n",
        "print('Number of anomalies in y_train: ', binary_y_train.sum())\n",
        "print('Number of anomalies in y_test:  ', binary_y_test.sum())\n"
      ]
    },
    {
      "cell_type": "markdown",
      "metadata": {
        "id": "h_O3xl_gNPXI"
      },
      "source": [
        "We see that the anomalies are optimally split between the training set and the testing set. Now that we have prepared the data, we are ready to train an XGBoost model to detect anomalies.\n",
        "<br>"
      ]
    },
    {
      "cell_type": "markdown",
      "metadata": {
        "id": "ub_cq56WNPXJ"
      },
      "source": [
        "### 2.1 Training GPU XGBoost Models with RAPIDS"
      ]
    },
    {
      "cell_type": "markdown",
      "metadata": {
        "id": "rQL0H1vGNPXJ"
      },
      "source": [
        "#### XGBoost"
      ]
    },
    {
      "cell_type": "markdown",
      "metadata": {
        "id": "o91ZAMCDNPXJ"
      },
      "source": [
        "XGBoost is widely known today as a \"go to\" model when working with structured data such as the KDD99 dataset. In fact, there are a disproportionately large number of XGBoost-based winning entries of Kaggle competitions.\n",
        "\n",
        "What is XGBoost and why is it so popular?\n",
        "\n",
        "Traditionally, in tree-based ensemble methods such as Random Forests, we train each tree independently. The predictions of multiple trees are summed to obtain the final score. The figure below classifies whether someone would like to play computer games or not."
      ]
    },
    {
      "cell_type": "markdown",
      "metadata": {
        "id": "QcAJa1vwNPXJ"
      },
      "source": [
        "<img src=\"https://raw.githubusercontent.com/dmlc/web-data/master/xgboost/model/twocart.png\" alt=\"Alt text that describes the graphic\" title=\"Title text\" width=700px>"
      ]
    },
    {
      "cell_type": "markdown",
      "metadata": {
        "id": "GQ13oBttNPXJ"
      },
      "source": [
        "<div align=\"center\" style=\"color:gray;\">\n",
        "    <em>Image courtesy <a href=\"https://goo.gl/eTxVtA\">goo.gl/eTxVtA<a/></em>\n",
        "</div>\n",
        "<hr>"
      ]
    },
    {
      "cell_type": "markdown",
      "metadata": {
        "id": "NIuaAahhNPXJ"
      },
      "source": [
        "In the case of XGBoost, an implementation of Gradient Boosted Decision Trees, we repeatedly build new models and combine them into an ensemble. Unlike Random Forests, we build trees one at a time, where each new tree helps to correct errors made by previously trained tree."
      ]
    },
    {
      "cell_type": "markdown",
      "metadata": {
        "id": "w4P9JKXHNPXJ"
      },
      "source": [
        "<img src=\"https://drive.google.com/uc?id=1WDN-kDMOsIhY3vWy8UBOR0qgBRHqbf-2\" alt=\"Alt text that describes the graphic\" title=\"Title text\" width=700px>"
      ]
    },
    {
      "cell_type": "markdown",
      "metadata": {
        "id": "CMA2J4H0NPXP"
      },
      "source": [
        "*The objective of the XGBoost model is as follows:*"
      ]
    },
    {
      "cell_type": "markdown",
      "metadata": {
        "id": "5wyMbqmXNPXP"
      },
      "source": [
        "\\begin{equation}\n",
        "L^(t) = \\sum_i^n{l(y_i, \\hat{y}_i^{(t-1)} + f+t(x_i))+\\Omega(f_t)}\n",
        "\\end{equation}"
      ]
    },
    {
      "cell_type": "markdown",
      "metadata": {
        "id": "4TmTqVw5NPXP"
      },
      "source": [
        "The loss function controls the predictive power of the model, and the XGBoost regularization term ensures simplicity and manages overfitting.\n",
        "\n",
        "Since Boosting focuses step by step on the difficult examples it gives it a nice strategy to deal with unbalanced datasets by strengthening the impact of the positive class."
      ]
    },
    {
      "cell_type": "markdown",
      "metadata": {
        "id": "YcQIYPVANPXP"
      },
      "source": [
        "### 2.2 Why Use GPU to Accelerate XGBoost?"
      ]
    },
    {
      "cell_type": "markdown",
      "metadata": {
        "id": "o0slL_TENPXP"
      },
      "source": [
        "Generally, GPU-accelerated XGBoost models will train much faster. It's also extremely easy. **In order to use the GPU version of XGBoost, only one parameter in the code has to be set (see below): ```{'tree_method': 'gpu_hist'```} Also, the environment must have the GPU version of XGBoost: https://xgboost.readthedocs.io/en/latest/gpu/index.html.** The easiest way to use GPU XGBoost is to use NVIDIA's RAPIDS container: https://hub.docker.com/r/rapidsai/rapidsai/.\n",
        "\n",
        "**Machine learning models using CPU-based XGBoost on large datasets can take several hours to train and achieve the best predictions. Oftentimes, models have to be trained for 1000s of iterations, and usually many different combinations of hyperparameters must be tested.**\n",
        "\n",
        "The more models that can be trained, the better the accuracy will be."
      ]
    },
    {
      "cell_type": "markdown",
      "metadata": {
        "id": "i4EsybmlNPXQ"
      },
      "source": [
        "Fortunately, the XGBoost algorithm is highly parallelizable by virtue of requiring scans across gradient values and using these partial sums to evaluate the quality of splits at every possible split in the training set. By utilizing fast parallel prefix operations to scan through all possible splits as well as parallel radix sorting to repartition data, the GPU accelerated version builds a decision tree for a given boosting iteration one level at a time, processing the entire dataset concurrently on the GPU."
      ]
    },
    {
      "cell_type": "markdown",
      "metadata": {
        "id": "ESPgizQpNPXQ"
      },
      "source": [
        "### 2.3 Hyperparameter Tuning"
      ]
    },
    {
      "cell_type": "markdown",
      "metadata": {
        "id": "NHt48jEWNPXQ"
      },
      "source": [
        "Hyperparameters can have a huge impact on the performance of XGBoost models. However, in this step, we hand-picked values for some of the most important variables. A potential next step could be to implement the hyperparameter tuning through a Cross-validation pipeline.\n",
        "Some of the more important ones are listed below. See [here](https://xgboost.readthedocs.io/en/latest/parameter.html) for a description of all parameters and see [here](https://xgboost.readthedocs.io/en/latest/tutorials/param_tuning.html) for a guide to tuning XGBoost models.\n",
        "<ul>\n",
        "<li>\n",
        "<b>objective:</b>\n",
        "Depending on whether we treat our problem as a binary classification problem or as a multi-class classification problem this parameter would be either binary:logistic or multi:softmax respectively.\n",
        "    </li>\n",
        "<li>\n",
        "<b>tree_method:</b>\n",
        "gpu_exact to use the GPU optimized exact greedy algorithm and gpu_hist to use the histogram optimized approximate greedy algorithm. For GPU accelerated XGBoost it is best to use gpu_hist.\n",
        "    </li>\n",
        "<li>\n",
        "<b>n_gpus:</b>\n",
        "The number of GPUs to use for training.  Note, if using GPU DASK, n_gpus should be set to 1.\n",
        "    </li>\n",
        "    \n",
        "<li>\n",
        "<b>max_depth:</b>\n",
        "Increasing this value will give the model more capacity to learn and it will also be more likely to overfit. If using a large max_depth value, make sure to increase the regularization.\n",
        "</li>\n",
        "\n",
        "<li>\n",
        "<b>learning_rate:</b>\n",
        "Used to control the weighting of new trees added to the model. If using a low value here, then the number of rounds of training should be high.\n",
        "</li>\n",
        "\n",
        "<li>\n",
        "<b>num_class:</b>\n",
        "    Indicates the number of classes in the label column. For a binary classification problem this should be 2 and the number of classes in the case of a multi-class problem.\n",
        "</li>"
      ]
    },
    {
      "cell_type": "code",
      "execution_count": null,
      "metadata": {
        "id": "tfaog2mANPXQ"
      },
      "outputs": [],
      "source": [
        "params = {\n",
        "    'num_rounds':        10,\n",
        "    'max_depth':         8,\n",
        "    'max_leaves':        2**8,\n",
        "    'alpha':             0.9,\n",
        "    'eta':               0.1,\n",
        "    'gamma':             0.1,\n",
        "    'learning_rate':     0.1,\n",
        "    'subsample':         1,\n",
        "    'reg_lambda':        1,\n",
        "    'scale_pos_weight':  2,\n",
        "    'tree_method':       'gpu_hist',\n",
        "    'n_gpus':            1,\n",
        "    'objective':         'binary:logistic',\n",
        "    'verbose':           True\n",
        "}"
      ]
    },
    {
      "cell_type": "markdown",
      "metadata": {
        "id": "CdF6tLMrNPXQ"
      },
      "source": [
        "### 2.4 Binary Classification Model Training"
      ]
    },
    {
      "cell_type": "markdown",
      "metadata": {
        "id": "pTQVTDD9NPXQ"
      },
      "source": [
        "Let us look at the feature and label columns of our training set before we start training our XGBoost model."
      ]
    },
    {
      "cell_type": "code",
      "execution_count": null,
      "metadata": {
        "colab": {
          "base_uri": "https://localhost:8080/",
          "height": 226
        },
        "id": "LIT_VTADNPXQ",
        "outputId": "34549df6-914c-42cf-bd61-22d22ecc61f7"
      },
      "outputs": [
        {
          "data": {
            "text/html": [
              "<div>\n",
              "<style scoped>\n",
              "    .dataframe tbody tr th:only-of-type {\n",
              "        vertical-align: middle;\n",
              "    }\n",
              "\n",
              "    .dataframe tbody tr th {\n",
              "        vertical-align: top;\n",
              "    }\n",
              "\n",
              "    .dataframe thead th {\n",
              "        text-align: right;\n",
              "    }\n",
              "</style>\n",
              "<table border=\"1\" class=\"dataframe\">\n",
              "  <thead>\n",
              "    <tr style=\"text-align: right;\">\n",
              "      <th></th>\n",
              "      <th>srv_count</th>\n",
              "      <th>srv_serror_rate</th>\n",
              "      <th>root_shell</th>\n",
              "      <th>dst_host_same_src_port_rate</th>\n",
              "      <th>su_attempted</th>\n",
              "      <th>num_shells</th>\n",
              "      <th>dst_host_srv_diff_host_rate</th>\n",
              "      <th>num_outbound_cmds</th>\n",
              "      <th>dst_host_count</th>\n",
              "      <th>dst_host_srv_serror_rate</th>\n",
              "      <th>dst_host_srv_rerror_rate</th>\n",
              "      <th>duration</th>\n",
              "      <th>dst_bytes</th>\n",
              "      <th>dst_host_rerror_rate</th>\n",
              "      <th>serror_rate</th>\n",
              "      <th>dst_host_serror_rate</th>\n",
              "      <th>same_srv_rate</th>\n",
              "      <th>diff_srv_rate</th>\n",
              "      <th>srv_diff_host_rate</th>\n",
              "      <th>rerror_rate</th>\n",
              "      <th>num_root</th>\n",
              "      <th>num_file_creations</th>\n",
              "      <th>wrong_fragment</th>\n",
              "      <th>num_compromised</th>\n",
              "      <th>dst_host_same_srv_rate</th>\n",
              "      <th>dst_host_diff_srv_rate</th>\n",
              "      <th>hot</th>\n",
              "      <th>src_bytes</th>\n",
              "      <th>count</th>\n",
              "      <th>srv_rerror_rate</th>\n",
              "      <th>num_access_files</th>\n",
              "      <th>urgent</th>\n",
              "      <th>dst_host_srv_count</th>\n",
              "      <th>num_failed_logins</th>\n",
              "      <th>land</th>\n",
              "      <th>logged_in</th>\n",
              "      <th>is_host_login</th>\n",
              "      <th>is_guest_login</th>\n",
              "      <th>protocol_type_icmp</th>\n",
              "      <th>protocol_type_tcp</th>\n",
              "      <th>protocol_type_udp</th>\n",
              "      <th>service_IRC</th>\n",
              "      <th>service_X11</th>\n",
              "      <th>service_Z39_50</th>\n",
              "      <th>service_aol</th>\n",
              "      <th>service_auth</th>\n",
              "      <th>service_bgp</th>\n",
              "      <th>service_courier</th>\n",
              "      <th>service_csnet_ns</th>\n",
              "      <th>service_ctf</th>\n",
              "      <th>service_daytime</th>\n",
              "      <th>service_discard</th>\n",
              "      <th>service_domain</th>\n",
              "      <th>service_domain_u</th>\n",
              "      <th>service_echo</th>\n",
              "      <th>service_eco_i</th>\n",
              "      <th>service_ecr_i</th>\n",
              "      <th>service_efs</th>\n",
              "      <th>service_exec</th>\n",
              "      <th>service_finger</th>\n",
              "      <th>service_ftp</th>\n",
              "      <th>service_ftp_data</th>\n",
              "      <th>service_gopher</th>\n",
              "      <th>service_harvest</th>\n",
              "      <th>service_hostnames</th>\n",
              "      <th>service_http</th>\n",
              "      <th>service_http_2784</th>\n",
              "      <th>service_http_443</th>\n",
              "      <th>service_http_8001</th>\n",
              "      <th>service_imap4</th>\n",
              "      <th>service_iso_tsap</th>\n",
              "      <th>service_klogin</th>\n",
              "      <th>service_kshell</th>\n",
              "      <th>service_ldap</th>\n",
              "      <th>service_link</th>\n",
              "      <th>service_login</th>\n",
              "      <th>service_mtp</th>\n",
              "      <th>service_name</th>\n",
              "      <th>service_netbios_dgm</th>\n",
              "      <th>service_netbios_ns</th>\n",
              "      <th>service_netbios_ssn</th>\n",
              "      <th>service_netstat</th>\n",
              "      <th>service_nnsp</th>\n",
              "      <th>service_nntp</th>\n",
              "      <th>service_ntp_u</th>\n",
              "      <th>service_other</th>\n",
              "      <th>service_pm_dump</th>\n",
              "      <th>service_pop_2</th>\n",
              "      <th>service_pop_3</th>\n",
              "      <th>service_printer</th>\n",
              "      <th>service_private</th>\n",
              "      <th>service_red_i</th>\n",
              "      <th>service_remote_job</th>\n",
              "      <th>service_rje</th>\n",
              "      <th>service_shell</th>\n",
              "      <th>service_smtp</th>\n",
              "      <th>service_sql_net</th>\n",
              "      <th>service_ssh</th>\n",
              "      <th>service_sunrpc</th>\n",
              "      <th>service_supdup</th>\n",
              "      <th>service_systat</th>\n",
              "      <th>service_telnet</th>\n",
              "      <th>service_tftp_u</th>\n",
              "      <th>service_tim_i</th>\n",
              "      <th>service_time</th>\n",
              "      <th>service_urh_i</th>\n",
              "      <th>service_urp_i</th>\n",
              "      <th>service_uucp</th>\n",
              "      <th>service_uucp_path</th>\n",
              "      <th>service_vmnet</th>\n",
              "      <th>service_whois</th>\n",
              "      <th>flag_OTH</th>\n",
              "      <th>flag_REJ</th>\n",
              "      <th>flag_RSTO</th>\n",
              "      <th>flag_RSTOS0</th>\n",
              "      <th>flag_RSTR</th>\n",
              "      <th>flag_S0</th>\n",
              "      <th>flag_S1</th>\n",
              "      <th>flag_S2</th>\n",
              "      <th>flag_S3</th>\n",
              "      <th>flag_SF</th>\n",
              "      <th>flag_SH</th>\n",
              "    </tr>\n",
              "  </thead>\n",
              "  <tbody>\n",
              "    <tr>\n",
              "      <th>3316061</th>\n",
              "      <td>511</td>\n",
              "      <td>0.0</td>\n",
              "      <td>0</td>\n",
              "      <td>1.0</td>\n",
              "      <td>0</td>\n",
              "      <td>0</td>\n",
              "      <td>0.0</td>\n",
              "      <td>0</td>\n",
              "      <td>255</td>\n",
              "      <td>0.0</td>\n",
              "      <td>0.0</td>\n",
              "      <td>0</td>\n",
              "      <td>0</td>\n",
              "      <td>0.0</td>\n",
              "      <td>0.0</td>\n",
              "      <td>0.0</td>\n",
              "      <td>1.0</td>\n",
              "      <td>0.0</td>\n",
              "      <td>0.00</td>\n",
              "      <td>0.0</td>\n",
              "      <td>0</td>\n",
              "      <td>0</td>\n",
              "      <td>0</td>\n",
              "      <td>0</td>\n",
              "      <td>1.0</td>\n",
              "      <td>0.0</td>\n",
              "      <td>0</td>\n",
              "      <td>1032</td>\n",
              "      <td>511</td>\n",
              "      <td>0.0</td>\n",
              "      <td>0</td>\n",
              "      <td>0</td>\n",
              "      <td>255</td>\n",
              "      <td>0</td>\n",
              "      <td>0</td>\n",
              "      <td>0</td>\n",
              "      <td>0</td>\n",
              "      <td>0</td>\n",
              "      <td>1</td>\n",
              "      <td>0</td>\n",
              "      <td>0</td>\n",
              "      <td>0</td>\n",
              "      <td>0</td>\n",
              "      <td>0</td>\n",
              "      <td>0</td>\n",
              "      <td>0</td>\n",
              "      <td>0</td>\n",
              "      <td>0</td>\n",
              "      <td>0</td>\n",
              "      <td>0</td>\n",
              "      <td>0</td>\n",
              "      <td>0</td>\n",
              "      <td>0</td>\n",
              "      <td>0</td>\n",
              "      <td>0</td>\n",
              "      <td>0</td>\n",
              "      <td>1</td>\n",
              "      <td>0</td>\n",
              "      <td>0</td>\n",
              "      <td>0</td>\n",
              "      <td>0</td>\n",
              "      <td>0</td>\n",
              "      <td>0</td>\n",
              "      <td>0</td>\n",
              "      <td>0</td>\n",
              "      <td>0</td>\n",
              "      <td>0</td>\n",
              "      <td>0</td>\n",
              "      <td>0</td>\n",
              "      <td>0</td>\n",
              "      <td>0</td>\n",
              "      <td>0</td>\n",
              "      <td>0</td>\n",
              "      <td>0</td>\n",
              "      <td>0</td>\n",
              "      <td>0</td>\n",
              "      <td>0</td>\n",
              "      <td>0</td>\n",
              "      <td>0</td>\n",
              "      <td>0</td>\n",
              "      <td>0</td>\n",
              "      <td>0</td>\n",
              "      <td>0</td>\n",
              "      <td>0</td>\n",
              "      <td>0</td>\n",
              "      <td>0</td>\n",
              "      <td>0</td>\n",
              "      <td>0</td>\n",
              "      <td>0</td>\n",
              "      <td>0</td>\n",
              "      <td>0</td>\n",
              "      <td>0</td>\n",
              "      <td>0</td>\n",
              "      <td>0</td>\n",
              "      <td>0</td>\n",
              "      <td>0</td>\n",
              "      <td>0</td>\n",
              "      <td>0</td>\n",
              "      <td>0</td>\n",
              "      <td>0</td>\n",
              "      <td>0</td>\n",
              "      <td>0</td>\n",
              "      <td>0</td>\n",
              "      <td>0</td>\n",
              "      <td>0</td>\n",
              "      <td>0</td>\n",
              "      <td>0</td>\n",
              "      <td>0</td>\n",
              "      <td>0</td>\n",
              "      <td>0</td>\n",
              "      <td>0</td>\n",
              "      <td>0</td>\n",
              "      <td>0</td>\n",
              "      <td>0</td>\n",
              "      <td>0</td>\n",
              "      <td>0</td>\n",
              "      <td>0</td>\n",
              "      <td>0</td>\n",
              "      <td>0</td>\n",
              "      <td>0</td>\n",
              "      <td>1</td>\n",
              "      <td>0</td>\n",
              "    </tr>\n",
              "    <tr>\n",
              "      <th>239340</th>\n",
              "      <td>28</td>\n",
              "      <td>0.0</td>\n",
              "      <td>0</td>\n",
              "      <td>0.0</td>\n",
              "      <td>0</td>\n",
              "      <td>0</td>\n",
              "      <td>0.0</td>\n",
              "      <td>0</td>\n",
              "      <td>255</td>\n",
              "      <td>0.0</td>\n",
              "      <td>0.0</td>\n",
              "      <td>0</td>\n",
              "      <td>462</td>\n",
              "      <td>0.0</td>\n",
              "      <td>0.0</td>\n",
              "      <td>0.0</td>\n",
              "      <td>1.0</td>\n",
              "      <td>0.0</td>\n",
              "      <td>0.07</td>\n",
              "      <td>0.0</td>\n",
              "      <td>0</td>\n",
              "      <td>0</td>\n",
              "      <td>0</td>\n",
              "      <td>0</td>\n",
              "      <td>1.0</td>\n",
              "      <td>0.0</td>\n",
              "      <td>0</td>\n",
              "      <td>199</td>\n",
              "      <td>27</td>\n",
              "      <td>0.0</td>\n",
              "      <td>0</td>\n",
              "      <td>0</td>\n",
              "      <td>255</td>\n",
              "      <td>0</td>\n",
              "      <td>0</td>\n",
              "      <td>1</td>\n",
              "      <td>0</td>\n",
              "      <td>0</td>\n",
              "      <td>0</td>\n",
              "      <td>1</td>\n",
              "      <td>0</td>\n",
              "      <td>0</td>\n",
              "      <td>0</td>\n",
              "      <td>0</td>\n",
              "      <td>0</td>\n",
              "      <td>0</td>\n",
              "      <td>0</td>\n",
              "      <td>0</td>\n",
              "      <td>0</td>\n",
              "      <td>0</td>\n",
              "      <td>0</td>\n",
              "      <td>0</td>\n",
              "      <td>0</td>\n",
              "      <td>0</td>\n",
              "      <td>0</td>\n",
              "      <td>0</td>\n",
              "      <td>0</td>\n",
              "      <td>0</td>\n",
              "      <td>0</td>\n",
              "      <td>0</td>\n",
              "      <td>0</td>\n",
              "      <td>0</td>\n",
              "      <td>0</td>\n",
              "      <td>0</td>\n",
              "      <td>0</td>\n",
              "      <td>1</td>\n",
              "      <td>0</td>\n",
              "      <td>0</td>\n",
              "      <td>0</td>\n",
              "      <td>0</td>\n",
              "      <td>0</td>\n",
              "      <td>0</td>\n",
              "      <td>0</td>\n",
              "      <td>0</td>\n",
              "      <td>0</td>\n",
              "      <td>0</td>\n",
              "      <td>0</td>\n",
              "      <td>0</td>\n",
              "      <td>0</td>\n",
              "      <td>0</td>\n",
              "      <td>0</td>\n",
              "      <td>0</td>\n",
              "      <td>0</td>\n",
              "      <td>0</td>\n",
              "      <td>0</td>\n",
              "      <td>0</td>\n",
              "      <td>0</td>\n",
              "      <td>0</td>\n",
              "      <td>0</td>\n",
              "      <td>0</td>\n",
              "      <td>0</td>\n",
              "      <td>0</td>\n",
              "      <td>0</td>\n",
              "      <td>0</td>\n",
              "      <td>0</td>\n",
              "      <td>0</td>\n",
              "      <td>0</td>\n",
              "      <td>0</td>\n",
              "      <td>0</td>\n",
              "      <td>0</td>\n",
              "      <td>0</td>\n",
              "      <td>0</td>\n",
              "      <td>0</td>\n",
              "      <td>0</td>\n",
              "      <td>0</td>\n",
              "      <td>0</td>\n",
              "      <td>0</td>\n",
              "      <td>0</td>\n",
              "      <td>0</td>\n",
              "      <td>0</td>\n",
              "      <td>0</td>\n",
              "      <td>0</td>\n",
              "      <td>0</td>\n",
              "      <td>0</td>\n",
              "      <td>0</td>\n",
              "      <td>0</td>\n",
              "      <td>0</td>\n",
              "      <td>0</td>\n",
              "      <td>0</td>\n",
              "      <td>0</td>\n",
              "      <td>1</td>\n",
              "      <td>0</td>\n",
              "    </tr>\n",
              "    <tr>\n",
              "      <th>4219707</th>\n",
              "      <td>511</td>\n",
              "      <td>0.0</td>\n",
              "      <td>0</td>\n",
              "      <td>1.0</td>\n",
              "      <td>0</td>\n",
              "      <td>0</td>\n",
              "      <td>0.0</td>\n",
              "      <td>0</td>\n",
              "      <td>255</td>\n",
              "      <td>0.0</td>\n",
              "      <td>0.0</td>\n",
              "      <td>0</td>\n",
              "      <td>0</td>\n",
              "      <td>0.0</td>\n",
              "      <td>0.0</td>\n",
              "      <td>0.0</td>\n",
              "      <td>1.0</td>\n",
              "      <td>0.0</td>\n",
              "      <td>0.00</td>\n",
              "      <td>0.0</td>\n",
              "      <td>0</td>\n",
              "      <td>0</td>\n",
              "      <td>0</td>\n",
              "      <td>0</td>\n",
              "      <td>1.0</td>\n",
              "      <td>0.0</td>\n",
              "      <td>0</td>\n",
              "      <td>520</td>\n",
              "      <td>511</td>\n",
              "      <td>0.0</td>\n",
              "      <td>0</td>\n",
              "      <td>0</td>\n",
              "      <td>255</td>\n",
              "      <td>0</td>\n",
              "      <td>0</td>\n",
              "      <td>0</td>\n",
              "      <td>0</td>\n",
              "      <td>0</td>\n",
              "      <td>1</td>\n",
              "      <td>0</td>\n",
              "      <td>0</td>\n",
              "      <td>0</td>\n",
              "      <td>0</td>\n",
              "      <td>0</td>\n",
              "      <td>0</td>\n",
              "      <td>0</td>\n",
              "      <td>0</td>\n",
              "      <td>0</td>\n",
              "      <td>0</td>\n",
              "      <td>0</td>\n",
              "      <td>0</td>\n",
              "      <td>0</td>\n",
              "      <td>0</td>\n",
              "      <td>0</td>\n",
              "      <td>0</td>\n",
              "      <td>0</td>\n",
              "      <td>1</td>\n",
              "      <td>0</td>\n",
              "      <td>0</td>\n",
              "      <td>0</td>\n",
              "      <td>0</td>\n",
              "      <td>0</td>\n",
              "      <td>0</td>\n",
              "      <td>0</td>\n",
              "      <td>0</td>\n",
              "      <td>0</td>\n",
              "      <td>0</td>\n",
              "      <td>0</td>\n",
              "      <td>0</td>\n",
              "      <td>0</td>\n",
              "      <td>0</td>\n",
              "      <td>0</td>\n",
              "      <td>0</td>\n",
              "      <td>0</td>\n",
              "      <td>0</td>\n",
              "      <td>0</td>\n",
              "      <td>0</td>\n",
              "      <td>0</td>\n",
              "      <td>0</td>\n",
              "      <td>0</td>\n",
              "      <td>0</td>\n",
              "      <td>0</td>\n",
              "      <td>0</td>\n",
              "      <td>0</td>\n",
              "      <td>0</td>\n",
              "      <td>0</td>\n",
              "      <td>0</td>\n",
              "      <td>0</td>\n",
              "      <td>0</td>\n",
              "      <td>0</td>\n",
              "      <td>0</td>\n",
              "      <td>0</td>\n",
              "      <td>0</td>\n",
              "      <td>0</td>\n",
              "      <td>0</td>\n",
              "      <td>0</td>\n",
              "      <td>0</td>\n",
              "      <td>0</td>\n",
              "      <td>0</td>\n",
              "      <td>0</td>\n",
              "      <td>0</td>\n",
              "      <td>0</td>\n",
              "      <td>0</td>\n",
              "      <td>0</td>\n",
              "      <td>0</td>\n",
              "      <td>0</td>\n",
              "      <td>0</td>\n",
              "      <td>0</td>\n",
              "      <td>0</td>\n",
              "      <td>0</td>\n",
              "      <td>0</td>\n",
              "      <td>0</td>\n",
              "      <td>0</td>\n",
              "      <td>0</td>\n",
              "      <td>0</td>\n",
              "      <td>0</td>\n",
              "      <td>0</td>\n",
              "      <td>0</td>\n",
              "      <td>0</td>\n",
              "      <td>0</td>\n",
              "      <td>1</td>\n",
              "      <td>0</td>\n",
              "    </tr>\n",
              "    <tr>\n",
              "      <th>3212920</th>\n",
              "      <td>511</td>\n",
              "      <td>0.0</td>\n",
              "      <td>0</td>\n",
              "      <td>1.0</td>\n",
              "      <td>0</td>\n",
              "      <td>0</td>\n",
              "      <td>0.0</td>\n",
              "      <td>0</td>\n",
              "      <td>255</td>\n",
              "      <td>0.0</td>\n",
              "      <td>0.0</td>\n",
              "      <td>0</td>\n",
              "      <td>0</td>\n",
              "      <td>0.0</td>\n",
              "      <td>0.0</td>\n",
              "      <td>0.0</td>\n",
              "      <td>1.0</td>\n",
              "      <td>0.0</td>\n",
              "      <td>0.00</td>\n",
              "      <td>0.0</td>\n",
              "      <td>0</td>\n",
              "      <td>0</td>\n",
              "      <td>0</td>\n",
              "      <td>0</td>\n",
              "      <td>1.0</td>\n",
              "      <td>0.0</td>\n",
              "      <td>0</td>\n",
              "      <td>1032</td>\n",
              "      <td>511</td>\n",
              "      <td>0.0</td>\n",
              "      <td>0</td>\n",
              "      <td>0</td>\n",
              "      <td>255</td>\n",
              "      <td>0</td>\n",
              "      <td>0</td>\n",
              "      <td>0</td>\n",
              "      <td>0</td>\n",
              "      <td>0</td>\n",
              "      <td>1</td>\n",
              "      <td>0</td>\n",
              "      <td>0</td>\n",
              "      <td>0</td>\n",
              "      <td>0</td>\n",
              "      <td>0</td>\n",
              "      <td>0</td>\n",
              "      <td>0</td>\n",
              "      <td>0</td>\n",
              "      <td>0</td>\n",
              "      <td>0</td>\n",
              "      <td>0</td>\n",
              "      <td>0</td>\n",
              "      <td>0</td>\n",
              "      <td>0</td>\n",
              "      <td>0</td>\n",
              "      <td>0</td>\n",
              "      <td>0</td>\n",
              "      <td>1</td>\n",
              "      <td>0</td>\n",
              "      <td>0</td>\n",
              "      <td>0</td>\n",
              "      <td>0</td>\n",
              "      <td>0</td>\n",
              "      <td>0</td>\n",
              "      <td>0</td>\n",
              "      <td>0</td>\n",
              "      <td>0</td>\n",
              "      <td>0</td>\n",
              "      <td>0</td>\n",
              "      <td>0</td>\n",
              "      <td>0</td>\n",
              "      <td>0</td>\n",
              "      <td>0</td>\n",
              "      <td>0</td>\n",
              "      <td>0</td>\n",
              "      <td>0</td>\n",
              "      <td>0</td>\n",
              "      <td>0</td>\n",
              "      <td>0</td>\n",
              "      <td>0</td>\n",
              "      <td>0</td>\n",
              "      <td>0</td>\n",
              "      <td>0</td>\n",
              "      <td>0</td>\n",
              "      <td>0</td>\n",
              "      <td>0</td>\n",
              "      <td>0</td>\n",
              "      <td>0</td>\n",
              "      <td>0</td>\n",
              "      <td>0</td>\n",
              "      <td>0</td>\n",
              "      <td>0</td>\n",
              "      <td>0</td>\n",
              "      <td>0</td>\n",
              "      <td>0</td>\n",
              "      <td>0</td>\n",
              "      <td>0</td>\n",
              "      <td>0</td>\n",
              "      <td>0</td>\n",
              "      <td>0</td>\n",
              "      <td>0</td>\n",
              "      <td>0</td>\n",
              "      <td>0</td>\n",
              "      <td>0</td>\n",
              "      <td>0</td>\n",
              "      <td>0</td>\n",
              "      <td>0</td>\n",
              "      <td>0</td>\n",
              "      <td>0</td>\n",
              "      <td>0</td>\n",
              "      <td>0</td>\n",
              "      <td>0</td>\n",
              "      <td>0</td>\n",
              "      <td>0</td>\n",
              "      <td>0</td>\n",
              "      <td>0</td>\n",
              "      <td>0</td>\n",
              "      <td>0</td>\n",
              "      <td>0</td>\n",
              "      <td>0</td>\n",
              "      <td>0</td>\n",
              "      <td>1</td>\n",
              "      <td>0</td>\n",
              "    </tr>\n",
              "    <tr>\n",
              "      <th>190138</th>\n",
              "      <td>4</td>\n",
              "      <td>0.0</td>\n",
              "      <td>0</td>\n",
              "      <td>0.0</td>\n",
              "      <td>0</td>\n",
              "      <td>0</td>\n",
              "      <td>0.0</td>\n",
              "      <td>0</td>\n",
              "      <td>255</td>\n",
              "      <td>0.0</td>\n",
              "      <td>0.0</td>\n",
              "      <td>0</td>\n",
              "      <td>924</td>\n",
              "      <td>0.0</td>\n",
              "      <td>0.0</td>\n",
              "      <td>0.0</td>\n",
              "      <td>1.0</td>\n",
              "      <td>0.0</td>\n",
              "      <td>0.00</td>\n",
              "      <td>0.0</td>\n",
              "      <td>0</td>\n",
              "      <td>0</td>\n",
              "      <td>0</td>\n",
              "      <td>0</td>\n",
              "      <td>1.0</td>\n",
              "      <td>0.0</td>\n",
              "      <td>0</td>\n",
              "      <td>285</td>\n",
              "      <td>4</td>\n",
              "      <td>0.0</td>\n",
              "      <td>0</td>\n",
              "      <td>0</td>\n",
              "      <td>255</td>\n",
              "      <td>0</td>\n",
              "      <td>0</td>\n",
              "      <td>1</td>\n",
              "      <td>0</td>\n",
              "      <td>0</td>\n",
              "      <td>0</td>\n",
              "      <td>1</td>\n",
              "      <td>0</td>\n",
              "      <td>0</td>\n",
              "      <td>0</td>\n",
              "      <td>0</td>\n",
              "      <td>0</td>\n",
              "      <td>0</td>\n",
              "      <td>0</td>\n",
              "      <td>0</td>\n",
              "      <td>0</td>\n",
              "      <td>0</td>\n",
              "      <td>0</td>\n",
              "      <td>0</td>\n",
              "      <td>0</td>\n",
              "      <td>0</td>\n",
              "      <td>0</td>\n",
              "      <td>0</td>\n",
              "      <td>0</td>\n",
              "      <td>0</td>\n",
              "      <td>0</td>\n",
              "      <td>0</td>\n",
              "      <td>0</td>\n",
              "      <td>0</td>\n",
              "      <td>0</td>\n",
              "      <td>0</td>\n",
              "      <td>0</td>\n",
              "      <td>1</td>\n",
              "      <td>0</td>\n",
              "      <td>0</td>\n",
              "      <td>0</td>\n",
              "      <td>0</td>\n",
              "      <td>0</td>\n",
              "      <td>0</td>\n",
              "      <td>0</td>\n",
              "      <td>0</td>\n",
              "      <td>0</td>\n",
              "      <td>0</td>\n",
              "      <td>0</td>\n",
              "      <td>0</td>\n",
              "      <td>0</td>\n",
              "      <td>0</td>\n",
              "      <td>0</td>\n",
              "      <td>0</td>\n",
              "      <td>0</td>\n",
              "      <td>0</td>\n",
              "      <td>0</td>\n",
              "      <td>0</td>\n",
              "      <td>0</td>\n",
              "      <td>0</td>\n",
              "      <td>0</td>\n",
              "      <td>0</td>\n",
              "      <td>0</td>\n",
              "      <td>0</td>\n",
              "      <td>0</td>\n",
              "      <td>0</td>\n",
              "      <td>0</td>\n",
              "      <td>0</td>\n",
              "      <td>0</td>\n",
              "      <td>0</td>\n",
              "      <td>0</td>\n",
              "      <td>0</td>\n",
              "      <td>0</td>\n",
              "      <td>0</td>\n",
              "      <td>0</td>\n",
              "      <td>0</td>\n",
              "      <td>0</td>\n",
              "      <td>0</td>\n",
              "      <td>0</td>\n",
              "      <td>0</td>\n",
              "      <td>0</td>\n",
              "      <td>0</td>\n",
              "      <td>0</td>\n",
              "      <td>0</td>\n",
              "      <td>0</td>\n",
              "      <td>0</td>\n",
              "      <td>0</td>\n",
              "      <td>0</td>\n",
              "      <td>0</td>\n",
              "      <td>0</td>\n",
              "      <td>0</td>\n",
              "      <td>0</td>\n",
              "      <td>1</td>\n",
              "      <td>0</td>\n",
              "    </tr>\n",
              "  </tbody>\n",
              "</table>\n",
              "</div>"
            ],
            "text/plain": [
              "         srv_count  srv_serror_rate  root_shell  dst_host_same_src_port_rate  \\\n",
              "3316061        511              0.0           0                          1.0   \n",
              "239340          28              0.0           0                          0.0   \n",
              "4219707        511              0.0           0                          1.0   \n",
              "3212920        511              0.0           0                          1.0   \n",
              "190138           4              0.0           0                          0.0   \n",
              "\n",
              "         su_attempted  num_shells  dst_host_srv_diff_host_rate  \\\n",
              "3316061             0           0                          0.0   \n",
              "239340              0           0                          0.0   \n",
              "4219707             0           0                          0.0   \n",
              "3212920             0           0                          0.0   \n",
              "190138              0           0                          0.0   \n",
              "\n",
              "         num_outbound_cmds  dst_host_count  dst_host_srv_serror_rate  \\\n",
              "3316061                  0             255                       0.0   \n",
              "239340                   0             255                       0.0   \n",
              "4219707                  0             255                       0.0   \n",
              "3212920                  0             255                       0.0   \n",
              "190138                   0             255                       0.0   \n",
              "\n",
              "         dst_host_srv_rerror_rate  duration  dst_bytes  dst_host_rerror_rate  \\\n",
              "3316061                       0.0         0          0                   0.0   \n",
              "239340                        0.0         0        462                   0.0   \n",
              "4219707                       0.0         0          0                   0.0   \n",
              "3212920                       0.0         0          0                   0.0   \n",
              "190138                        0.0         0        924                   0.0   \n",
              "\n",
              "         serror_rate  dst_host_serror_rate  same_srv_rate  diff_srv_rate  \\\n",
              "3316061          0.0                   0.0            1.0            0.0   \n",
              "239340           0.0                   0.0            1.0            0.0   \n",
              "4219707          0.0                   0.0            1.0            0.0   \n",
              "3212920          0.0                   0.0            1.0            0.0   \n",
              "190138           0.0                   0.0            1.0            0.0   \n",
              "\n",
              "         srv_diff_host_rate  rerror_rate  num_root  num_file_creations  \\\n",
              "3316061                0.00          0.0         0                   0   \n",
              "239340                 0.07          0.0         0                   0   \n",
              "4219707                0.00          0.0         0                   0   \n",
              "3212920                0.00          0.0         0                   0   \n",
              "190138                 0.00          0.0         0                   0   \n",
              "\n",
              "         wrong_fragment  num_compromised  dst_host_same_srv_rate  \\\n",
              "3316061               0                0                     1.0   \n",
              "239340                0                0                     1.0   \n",
              "4219707               0                0                     1.0   \n",
              "3212920               0                0                     1.0   \n",
              "190138                0                0                     1.0   \n",
              "\n",
              "         dst_host_diff_srv_rate  hot  src_bytes  count  srv_rerror_rate  \\\n",
              "3316061                     0.0    0       1032    511              0.0   \n",
              "239340                      0.0    0        199     27              0.0   \n",
              "4219707                     0.0    0        520    511              0.0   \n",
              "3212920                     0.0    0       1032    511              0.0   \n",
              "190138                      0.0    0        285      4              0.0   \n",
              "\n",
              "         num_access_files  urgent  dst_host_srv_count  num_failed_logins  \\\n",
              "3316061                 0       0                 255                  0   \n",
              "239340                  0       0                 255                  0   \n",
              "4219707                 0       0                 255                  0   \n",
              "3212920                 0       0                 255                  0   \n",
              "190138                  0       0                 255                  0   \n",
              "\n",
              "         land  logged_in  is_host_login  is_guest_login  protocol_type_icmp  \\\n",
              "3316061     0          0              0               0                   1   \n",
              "239340      0          1              0               0                   0   \n",
              "4219707     0          0              0               0                   1   \n",
              "3212920     0          0              0               0                   1   \n",
              "190138      0          1              0               0                   0   \n",
              "\n",
              "         protocol_type_tcp  protocol_type_udp  service_IRC  service_X11  \\\n",
              "3316061                  0                  0            0            0   \n",
              "239340                   1                  0            0            0   \n",
              "4219707                  0                  0            0            0   \n",
              "3212920                  0                  0            0            0   \n",
              "190138                   1                  0            0            0   \n",
              "\n",
              "         service_Z39_50  service_aol  service_auth  service_bgp  \\\n",
              "3316061               0            0             0            0   \n",
              "239340                0            0             0            0   \n",
              "4219707               0            0             0            0   \n",
              "3212920               0            0             0            0   \n",
              "190138                0            0             0            0   \n",
              "\n",
              "         service_courier  service_csnet_ns  service_ctf  service_daytime  \\\n",
              "3316061                0                 0            0                0   \n",
              "239340                 0                 0            0                0   \n",
              "4219707                0                 0            0                0   \n",
              "3212920                0                 0            0                0   \n",
              "190138                 0                 0            0                0   \n",
              "\n",
              "         service_discard  service_domain  service_domain_u  service_echo  \\\n",
              "3316061                0               0                 0             0   \n",
              "239340                 0               0                 0             0   \n",
              "4219707                0               0                 0             0   \n",
              "3212920                0               0                 0             0   \n",
              "190138                 0               0                 0             0   \n",
              "\n",
              "         service_eco_i  service_ecr_i  service_efs  service_exec  \\\n",
              "3316061              0              1            0             0   \n",
              "239340               0              0            0             0   \n",
              "4219707              0              1            0             0   \n",
              "3212920              0              1            0             0   \n",
              "190138               0              0            0             0   \n",
              "\n",
              "         service_finger  service_ftp  service_ftp_data  service_gopher  \\\n",
              "3316061               0            0                 0               0   \n",
              "239340                0            0                 0               0   \n",
              "4219707               0            0                 0               0   \n",
              "3212920               0            0                 0               0   \n",
              "190138                0            0                 0               0   \n",
              "\n",
              "         service_harvest  service_hostnames  service_http  service_http_2784  \\\n",
              "3316061                0                  0             0                  0   \n",
              "239340                 0                  0             1                  0   \n",
              "4219707                0                  0             0                  0   \n",
              "3212920                0                  0             0                  0   \n",
              "190138                 0                  0             1                  0   \n",
              "\n",
              "         service_http_443  service_http_8001  service_imap4  service_iso_tsap  \\\n",
              "3316061                 0                  0              0                 0   \n",
              "239340                  0                  0              0                 0   \n",
              "4219707                 0                  0              0                 0   \n",
              "3212920                 0                  0              0                 0   \n",
              "190138                  0                  0              0                 0   \n",
              "\n",
              "         service_klogin  service_kshell  service_ldap  service_link  \\\n",
              "3316061               0               0             0             0   \n",
              "239340                0               0             0             0   \n",
              "4219707               0               0             0             0   \n",
              "3212920               0               0             0             0   \n",
              "190138                0               0             0             0   \n",
              "\n",
              "         service_login  service_mtp  service_name  service_netbios_dgm  \\\n",
              "3316061              0            0             0                    0   \n",
              "239340               0            0             0                    0   \n",
              "4219707              0            0             0                    0   \n",
              "3212920              0            0             0                    0   \n",
              "190138               0            0             0                    0   \n",
              "\n",
              "         service_netbios_ns  service_netbios_ssn  service_netstat  \\\n",
              "3316061                   0                    0                0   \n",
              "239340                    0                    0                0   \n",
              "4219707                   0                    0                0   \n",
              "3212920                   0                    0                0   \n",
              "190138                    0                    0                0   \n",
              "\n",
              "         service_nnsp  service_nntp  service_ntp_u  service_other  \\\n",
              "3316061             0             0              0              0   \n",
              "239340              0             0              0              0   \n",
              "4219707             0             0              0              0   \n",
              "3212920             0             0              0              0   \n",
              "190138              0             0              0              0   \n",
              "\n",
              "         service_pm_dump  service_pop_2  service_pop_3  service_printer  \\\n",
              "3316061                0              0              0                0   \n",
              "239340                 0              0              0                0   \n",
              "4219707                0              0              0                0   \n",
              "3212920                0              0              0                0   \n",
              "190138                 0              0              0                0   \n",
              "\n",
              "         service_private  service_red_i  service_remote_job  service_rje  \\\n",
              "3316061                0              0                   0            0   \n",
              "239340                 0              0                   0            0   \n",
              "4219707                0              0                   0            0   \n",
              "3212920                0              0                   0            0   \n",
              "190138                 0              0                   0            0   \n",
              "\n",
              "         service_shell  service_smtp  service_sql_net  service_ssh  \\\n",
              "3316061              0             0                0            0   \n",
              "239340               0             0                0            0   \n",
              "4219707              0             0                0            0   \n",
              "3212920              0             0                0            0   \n",
              "190138               0             0                0            0   \n",
              "\n",
              "         service_sunrpc  service_supdup  service_systat  service_telnet  \\\n",
              "3316061               0               0               0               0   \n",
              "239340                0               0               0               0   \n",
              "4219707               0               0               0               0   \n",
              "3212920               0               0               0               0   \n",
              "190138                0               0               0               0   \n",
              "\n",
              "         service_tftp_u  service_tim_i  service_time  service_urh_i  \\\n",
              "3316061               0              0             0              0   \n",
              "239340                0              0             0              0   \n",
              "4219707               0              0             0              0   \n",
              "3212920               0              0             0              0   \n",
              "190138                0              0             0              0   \n",
              "\n",
              "         service_urp_i  service_uucp  service_uucp_path  service_vmnet  \\\n",
              "3316061              0             0                  0              0   \n",
              "239340               0             0                  0              0   \n",
              "4219707              0             0                  0              0   \n",
              "3212920              0             0                  0              0   \n",
              "190138               0             0                  0              0   \n",
              "\n",
              "         service_whois  flag_OTH  flag_REJ  flag_RSTO  flag_RSTOS0  flag_RSTR  \\\n",
              "3316061              0         0         0          0            0          0   \n",
              "239340               0         0         0          0            0          0   \n",
              "4219707              0         0         0          0            0          0   \n",
              "3212920              0         0         0          0            0          0   \n",
              "190138               0         0         0          0            0          0   \n",
              "\n",
              "         flag_S0  flag_S1  flag_S2  flag_S3  flag_SF  flag_SH  \n",
              "3316061        0        0        0        0        1        0  \n",
              "239340         0        0        0        0        1        0  \n",
              "4219707        0        0        0        0        1        0  \n",
              "3212920        0        0        0        0        1        0  \n",
              "190138         0        0        0        0        1        0  "
            ]
          },
          "execution_count": 63,
          "metadata": {},
          "output_type": "execute_result"
        }
      ],
      "source": [
        "x_train.head()"
      ]
    },
    {
      "cell_type": "code",
      "execution_count": null,
      "metadata": {
        "colab": {
          "base_uri": "https://localhost:8080/"
        },
        "id": "G4wQwjq-NPXQ",
        "outputId": "5c85611b-1a9e-4cc3-e76e-893ff9cfe88c"
      },
      "outputs": [
        {
          "data": {
            "text/plain": [
              "array([18, 11, 18, 18, 11, 18,  9, 18,  9, 11, 11, 18, 18, 11, 18,  9, 18,\n",
              "       11, 18, 18, 18,  9, 18, 18, 11, 18, 18,  9, 18, 11, 18,  9, 18, 11,\n",
              "        9, 11,  9, 18, 18, 18, 18, 18, 18, 18, 11, 18,  9, 18,  9, 18, 18,\n",
              "       11, 11, 18, 18,  9, 18, 18, 18,  9, 18, 11, 18,  9, 18, 18,  9,  9,\n",
              "       11, 18, 18,  9, 11, 18, 11, 11, 11, 11, 18, 18,  9, 18, 18, 11, 11,\n",
              "       11, 11, 18, 11, 11, 18, 11,  9, 18,  9, 18, 18, 18,  9, 18])"
            ]
          },
          "execution_count": 64,
          "metadata": {},
          "output_type": "execute_result"
        }
      ],
      "source": [
        "y_train[0:100]"
      ]
    },
    {
      "cell_type": "code",
      "execution_count": null,
      "metadata": {
        "id": "GS0zal5iNPXQ",
        "outputId": "22ea3453-9ff3-4030-e5e2-33271a907326"
      },
      "outputs": [
        {
          "name": "stdout",
          "output_type": "stream",
          "text": [
            "CPU times: user 15.1 s, sys: 1.16 s, total: 16.3 s\n",
            "Wall time: 2.99 s\n"
          ]
        }
      ],
      "source": [
        "%%time\n",
        "\n",
        "dtrain = xgb.DMatrix(x_train, label=binary_y_train)\n",
        "dtest = xgb.DMatrix(x_test, label=binary_y_test)\n",
        "evals = [(dtest, 'test',), (dtrain, 'train')]"
      ]
    },
    {
      "cell_type": "code",
      "execution_count": null,
      "metadata": {
        "id": "kiMjyMlyNPXT"
      },
      "outputs": [],
      "source": [
        "num_rounds = params['num_rounds']"
      ]
    },
    {
      "cell_type": "code",
      "execution_count": null,
      "metadata": {
        "id": "wTNnNLpFNPXT",
        "outputId": "4663e0c6-8555-4e47-b726-288f14ef947f"
      },
      "outputs": [
        {
          "name": "stdout",
          "output_type": "stream",
          "text": [
            "[02:26:33] WARNING: ../src/learner.cc:576: \n",
            "Parameters: { \"n_gpus\", \"num_rounds\", \"verbose\" } might not be used.\n",
            "\n",
            "  This could be a false alarm, with some parameters getting used by language bindings but\n",
            "  then being mistakenly passed down to XGBoost core, or some parameter actually being used\n",
            "  but getting flagged wrongly here. Please open an issue if you find any such cases.\n",
            "\n",
            "\n",
            "[02:26:34] WARNING: ../src/learner.cc:1115: Starting in XGBoost 1.3.0, the default evaluation metric used with the objective 'binary:logistic' was changed from 'error' to 'logloss'. Explicitly set eval_metric if you'd like to restore the old behavior.\n",
            "[0]\ttest-logloss:0.59826\ttrain-logloss:0.59825\n",
            "[1]\ttest-logloss:0.52054\ttrain-logloss:0.52053\n",
            "[2]\ttest-logloss:0.45574\ttrain-logloss:0.45572\n",
            "[3]\ttest-logloss:0.40096\ttrain-logloss:0.40094\n",
            "[4]\ttest-logloss:0.35417\ttrain-logloss:0.35414\n",
            "[5]\ttest-logloss:0.31386\ttrain-logloss:0.31383\n",
            "[6]\ttest-logloss:0.27890\ttrain-logloss:0.27887\n",
            "[7]\ttest-logloss:0.24841\ttrain-logloss:0.24838\n",
            "[8]\ttest-logloss:0.22170\ttrain-logloss:0.22166\n",
            "[9]\ttest-logloss:0.19820\ttrain-logloss:0.19815\n"
          ]
        }
      ],
      "source": [
        "model = xgb.train(params, dtrain, num_rounds, evals=evals)"
      ]
    },
    {
      "cell_type": "markdown",
      "metadata": {
        "id": "qDHZbMCNNPXT"
      },
      "source": [
        "We can use the `nvidia-smi` shell command to see that data has been moved automatically to the GPU for training. Note the memory utilization under the column *Memory-Usage* after running the following cell."
      ]
    },
    {
      "cell_type": "code",
      "execution_count": null,
      "metadata": {
        "id": "Lw5Z4ie7NPXT",
        "outputId": "5bcb86b5-cd6c-44e9-99b1-dc3b2b8b7222"
      },
      "outputs": [
        {
          "name": "stdout",
          "output_type": "stream",
          "text": [
            "Tue Nov  7 02:26:35 2023       \n",
            "+-----------------------------------------------------------------------------+\n",
            "| NVIDIA-SMI 470.82.01    Driver Version: 470.82.01    CUDA Version: 11.7     |\n",
            "|-------------------------------+----------------------+----------------------+\n",
            "| GPU  Name        Persistence-M| Bus-Id        Disp.A | Volatile Uncorr. ECC |\n",
            "| Fan  Temp  Perf  Pwr:Usage/Cap|         Memory-Usage | GPU-Util  Compute M. |\n",
            "|                               |                      |               MIG M. |\n",
            "|===============================+======================+======================|\n",
            "|   0  NVIDIA A10G         On   | 00000000:00:1E.0 Off |                    0 |\n",
            "|  0%   35C    P0   112W / 300W |   2959MiB / 22731MiB |      5%      Default |\n",
            "|                               |                      |                  N/A |\n",
            "+-------------------------------+----------------------+----------------------+\n",
            "                                                                               \n",
            "+-----------------------------------------------------------------------------+\n",
            "| Processes:                                                                  |\n",
            "|  GPU   GI   CI        PID   Type   Process name                  GPU Memory |\n",
            "|        ID   ID                                                   Usage      |\n",
            "|=============================================================================|\n",
            "+-----------------------------------------------------------------------------+\n"
          ]
        }
      ],
      "source": [
        "!nvidia-smi"
      ]
    },
    {
      "cell_type": "markdown",
      "metadata": {
        "id": "_BO_GPU-NPXT"
      },
      "source": [
        "### 2.5 Testing and Evaluation"
      ]
    },
    {
      "cell_type": "markdown",
      "metadata": {
        "id": "E7JL5S9bNPXT"
      },
      "source": [
        "If you scroll to the section where we declared our XGboost parameters, we see that we have set the objective to be `binary:logistic`.\n",
        "\n",
        "In a binary logistic classifier we usually set the threshold at 0.5 meaning all probability scores >= 0.5 will be assigned 1 (Anomaly) and those with scores < 0.5 will be assigned 0 (Normal).\n",
        "\n",
        "This will help us calculate the accuracy as we will see in the coming sections."
      ]
    },
    {
      "cell_type": "markdown",
      "metadata": {
        "id": "SIPSbtXwNPXT"
      },
      "source": [
        "First let's look at our predictions."
      ]
    },
    {
      "cell_type": "code",
      "execution_count": null,
      "metadata": {
        "id": "s6qhnCg6NPXT",
        "outputId": "f408a5e5-9b9e-491e-d7ea-ae4363ebc4eb"
      },
      "outputs": [
        {
          "data": {
            "text/plain": [
              "981436"
            ]
          },
          "execution_count": 69,
          "metadata": {},
          "output_type": "execute_result"
        }
      ],
      "source": [
        "threshold = .5\n",
        "true_labels = binary_y_test.astype(int)\n",
        "true_labels.sum()"
      ]
    },
    {
      "cell_type": "code",
      "execution_count": null,
      "metadata": {
        "id": "KjhzxAr4NPXT",
        "outputId": "2dff5b49-01ae-4475-dac6-7aa267abb1a8"
      },
      "outputs": [
        {
          "name": "stdout",
          "output_type": "stream",
          "text": [
            "[0.17959377 0.82072806 0.17959377 ... 0.17959377 0.82072806 0.82072806]\n"
          ]
        }
      ],
      "source": [
        "# make predictions on the test set using our trained model\n",
        "preds = model.predict(dtest)\n",
        "print(preds)"
      ]
    },
    {
      "cell_type": "code",
      "execution_count": null,
      "metadata": {
        "id": "XFn2BKMDNPXT",
        "outputId": "c6969fb2-11c2-4b70-aac6-9b6ea81cdab1"
      },
      "outputs": [
        {
          "name": "stdout",
          "output_type": "stream",
          "text": [
            "[0 1 0 ... 0 1 1]\n"
          ]
        }
      ],
      "source": [
        "pred_labels = (preds > threshold).astype(int)\n",
        "print(pred_labels)"
      ]
    },
    {
      "cell_type": "code",
      "execution_count": null,
      "metadata": {
        "id": "_XO0sm0aNPXU",
        "outputId": "11e654b9-9337-423d-e1f4-d7092dd4389d"
      },
      "outputs": [
        {
          "data": {
            "text/plain": [
              "981347"
            ]
          },
          "execution_count": 72,
          "metadata": {},
          "output_type": "execute_result"
        }
      ],
      "source": [
        "pred_labels.sum()"
      ]
    },
    {
      "cell_type": "markdown",
      "metadata": {
        "id": "XE8I0OprNPXU"
      },
      "source": [
        "### 2.6 Area under the Curve (AUC)\n",
        "\n",
        "The area under the ROC curve is a great metric for determining how well your classification model is performing, even in the case of imbalanced classes. A score of 1 means your model is performing perfectly, while a score of .5 means that your model is the same as randomly guessing. [See here for more information](https://en.wikipedia.org/wiki/Receiver_operating_characteristic)."
      ]
    },
    {
      "cell_type": "code",
      "execution_count": null,
      "metadata": {
        "id": "xAB9LPHHNPXU",
        "outputId": "47693dcc-cc45-4a0b-c963-3c8cf6bdafc3"
      },
      "outputs": [
        {
          "name": "stdout",
          "output_type": "stream",
          "text": [
            "0.999972294849584\n"
          ]
        }
      ],
      "source": [
        "# compute the auc\n",
        "auc = roc_auc_score(true_labels, preds)\n",
        "print(auc)"
      ]
    },
    {
      "cell_type": "markdown",
      "metadata": {
        "id": "iEr3O4OYNPXU"
      },
      "source": [
        "We are getting near a perfect score here, even without any hyperparameter tuning. This is great!"
      ]
    },
    {
      "cell_type": "markdown",
      "metadata": {
        "id": "Zzss0tbrNPXU"
      },
      "source": [
        "### 2.7 Accuracy\n",
        "Accuracy is the ratio of correct classifications to the total number of samples.  Accuracy is often misleading in anomaly detection problems where the classes are highly imbalanced."
      ]
    },
    {
      "cell_type": "code",
      "execution_count": null,
      "metadata": {
        "id": "QgSYs7InNPXU",
        "outputId": "2a16b6ae-b26b-4914-a1bc-5487e32217e4"
      },
      "outputs": [
        {
          "name": "stdout",
          "output_type": "stream",
          "text": [
            "Accuracy: 0.9997329757767384\n"
          ]
        }
      ],
      "source": [
        "print ('Accuracy:', accuracy_score(true_labels, pred_labels))"
      ]
    },
    {
      "cell_type": "markdown",
      "metadata": {
        "id": "K75GOclfNPXU"
      },
      "source": [
        "The accuracy should be almost perfect."
      ]
    },
    {
      "cell_type": "markdown",
      "metadata": {
        "id": "ZD9V1uMPNPXU"
      },
      "source": [
        "### 2.8 Confusion Matrix"
      ]
    },
    {
      "cell_type": "markdown",
      "metadata": {
        "id": "RyZNZQ1CNPXU"
      },
      "source": [
        "Let's take a look at the confusion matrix to represent the quality of the output of our classifier on this dataset. The diagonal elements represent correct or true labels, whereas the off-diagonal elements represent the elements misclassified by the classification model. Therefore, the higher the values of the diagonal elements of the confusion matrix, the better and more accurate the classification model becomes."
      ]
    },
    {
      "cell_type": "code",
      "execution_count": null,
      "metadata": {
        "id": "5Z3s3Uw2NPXU",
        "outputId": "91b0f222-0611-4eb4-e5e9-bff05d2b6e05"
      },
      "outputs": [
        {
          "name": "stdout",
          "output_type": "stream",
          "text": [
            "Confusion Matrix :\n"
          ]
        },
        {
          "data": {
            "image/png": "[encoded data removed]",
            "text/plain": [
              "<Figure size 648x432 with 2 Axes>"
            ]
          },
          "metadata": {
            "needs_background": "light"
          },
          "output_type": "display_data"
        }
      ],
      "source": [
        "results = confusion_matrix(true_labels, pred_labels)\n",
        "\n",
        "print ('Confusion Matrix :')\n",
        "\n",
        "def plot_confusion_matrix(cm, target_names, title='Confusion Matrix', cmap=plt.cm.Greens):\n",
        "    plt.figure(figsize=(9,6))\n",
        "    plt.imshow(cm, interpolation='nearest', cmap=cmap)\n",
        "    plt.title(title)\n",
        "    plt.colorbar()\n",
        "    tick_marks = np.arange(len(target_names))\n",
        "    plt.xticks(tick_marks, target_names, rotation=45)\n",
        "    plt.yticks(tick_marks, target_names)\n",
        "    plt.tight_layout()\n",
        "\n",
        "    width, height = cm.shape\n",
        "\n",
        "    for x in range(width):\n",
        "        for y in range(height):\n",
        "            plt.annotate(str(cm[x][y]), xy=(y, x),\n",
        "                        horizontalalignment='center',\n",
        "                        verticalalignment='center')\n",
        "    plt.ylabel('True Label')\n",
        "    plt.xlabel('Predicted Label')\n",
        "\n",
        "\n",
        "plot_confusion_matrix(results, ['Normal','Anomaly'])"
      ]
    },
    {
      "cell_type": "markdown",
      "metadata": {
        "id": "OcDUKt8eNPXU"
      },
      "source": [
        "From the confusion matrix we can see that our model is performing really well. It is able to classify almost all of the anomalies. In fact, missing only ~200 anomalies out of a million is beyond excellent. And this is without any tuning of XGBoost.  We can see why XGBoost is so popular."
      ]
    },
    {
      "cell_type": "markdown",
      "metadata": {
        "id": "rl9NMoD-NPXV"
      },
      "source": [
        "### 2.9 AUC Part 2"
      ]
    },
    {
      "cell_type": "markdown",
      "metadata": {
        "id": "95SwMMYKNPXV"
      },
      "source": [
        "The AUC curve is a plot of the True Positive Rate (TPR) against the False Positive Rate (FPR). The TPR is a measure of how often the prediction is correct, when there is a positive value, and the FPR is how often the prediction is incorrect when the value is in fact negative."
      ]
    },
    {
      "cell_type": "code",
      "execution_count": null,
      "metadata": {
        "id": "g6Bf8Ob3NPXV",
        "outputId": "9d8a7579-ea6f-4e9d-f299-3f9be8706dd0"
      },
      "outputs": [
        {
          "data": {
            "image/png": "[encoded data removed]",
            "text/plain": [
              "<Figure size 648x432 with 1 Axes>"
            ]
          },
          "metadata": {
            "needs_background": "light"
          },
          "output_type": "display_data"
        }
      ],
      "source": [
        "fpr, tpr, thresholds = roc_curve(true_labels, pred_labels)\n",
        "roc_auc = roc_auc_score(true_labels, pred_labels)\n",
        "\n",
        "plt.figure(figsize=(9,6))\n",
        "plt.plot(fpr, tpr, color='darkorange', lw=4, label='ROC curve (area = %0.2f)' % roc_auc)\n",
        "plt.plot([0, 1], [0, 1], color='navy', linestyle='--')\n",
        "plt.xlim([0.0, 1.0])\n",
        "plt.ylim([0.0, 1.05])\n",
        "plt.xlabel('False Positive Rate')\n",
        "plt.ylabel('True Positive Rate')\n",
        "plt.title('Receiver operating characteristic')\n",
        "plt.legend(loc=\"lower right\")\n",
        "plt.show()"
      ]
    },
    {
      "cell_type": "markdown",
      "metadata": {
        "id": "kGurPR74NPXV"
      },
      "source": [
        "The closer the curve is to the left-hand and the top-hand borders of the ROC plotting area, the better the model is performing over all thresholds. The area under the ROC curve (AUC) is a way of quantifying this performance. 1 is a perfect score."
      ]
    },
    {
      "cell_type": "markdown",
      "metadata": {
        "id": "TN2uS7DfNPXV"
      },
      "source": [
        "### 2.10 Model Inspection"
      ]
    },
    {
      "cell_type": "markdown",
      "metadata": {
        "id": "wYHEP_9YNPXV"
      },
      "source": [
        "Why is our model performing so well? One tool we can use from XGBoost is the feature importance.  XGBoost will rank the features that it uses in determining a classification.  We can visualize the feature importance using the \"plot_importance\" method.  \n",
        "\n",
        "Knowing which features are contributing the model can be really useful for solving business problems.  In the case of network security, those features can give us way to possibly preempt malicious activity.\n",
        "\n",
        "Feature importance can also be a great way to debug your model.\n",
        "\n",
        "You might have to run this cell twice to see the feature importance."
      ]
    },
    {
      "cell_type": "code",
      "execution_count": null,
      "metadata": {
        "id": "cFUVTGGuNPXV",
        "outputId": "dbfad14a-9834-4d70-8a28-0537ddd27899"
      },
      "outputs": [
        {
          "data": {
            "image/png": "[encoded data removed]",
            "text/plain": [
              "<Figure size 1008x864 with 1 Axes>"
            ]
          },
          "metadata": {
            "needs_background": "light"
          },
          "output_type": "display_data"
        }
      ],
      "source": [
        "ax = xgb.plot_importance(model)\n",
        "fig = ax.figure\n",
        "fig.set_size_inches(14, 12)"
      ]
    },
    {
      "cell_type": "markdown",
      "metadata": {
        "id": "QqGawLEUNPXV"
      },
      "source": [
        "## Section 3: Impact of Skewed Data"
      ]
    },
    {
      "cell_type": "markdown",
      "metadata": {
        "id": "9K-SJ2CdNPXV"
      },
      "source": [
        "As we prepared our data, we pointed out that there were more anomalies than normal data and considered the implications of this dataset skew that doesn't match the real world. Take a moment now see how adjusting our dataset impacts performance."
      ]
    },
    {
      "cell_type": "markdown",
      "metadata": {
        "id": "4OCyrTl6Fzr3"
      },
      "source": [
        "### 3.1 Reduce the Anomalous Data"
      ]
    },
    {
      "cell_type": "code",
      "execution_count": null,
      "metadata": {
        "id": "iwtXBhT0NPXV"
      },
      "outputs": [],
      "source": [
        "def reduce_anomalies(df, pct_anomalies=.01):\n",
        "    labels = df['label'].copy()\n",
        "    is_anomaly = labels != 'normal.'\n",
        "    num_normal = np.sum(~is_anomaly)\n",
        "    num_anomalies = int(pct_anomalies * num_normal)\n",
        "    all_anomalies = labels[labels != 'normal.']\n",
        "    anomalies_to_keep = np.random.choice(all_anomalies.index, size=num_anomalies, replace=False)\n",
        "    anomalous_data = df.iloc[anomalies_to_keep].copy()\n",
        "    normal_data = df[~is_anomaly].copy()\n",
        "    new_df = pd.concat([normal_data, anomalous_data], axis=0)\n",
        "    return new_df"
      ]
    },
    {
      "cell_type": "code",
      "execution_count": null,
      "metadata": {
        "id": "jNKEFtrzNPXV"
      },
      "outputs": [],
      "source": [
        "df = reduce_anomalies(df)"
      ]
    },
    {
      "cell_type": "markdown",
      "metadata": {
        "id": "xSTUyfU_Fzr3"
      },
      "source": [
        "### 3.2 Encode the Labels & Categorical Data"
      ]
    },
    {
      "cell_type": "code",
      "execution_count": null,
      "metadata": {
        "colab": {
          "base_uri": "https://localhost:8080/"
        },
        "outputId": "dc08ccd5-6fd5-4676-f76f-be25ced6cef9",
        "id": "JNOscJt7Fzr3"
      },
      "outputs": [
        {
          "name": "stdout",
          "output_type": "stream",
          "text": [
            "['back.' 'ipsweep.' 'neptune.' 'nmap.' 'normal.' 'portsweep.' 'satan.'\n",
            " 'smurf.' 'teardrop.' 'warezclient.']\n"
          ]
        }
      ],
      "source": [
        "# here we train a label encoder so that we can map our classes to integers later for model training\n",
        "le = LabelEncoder()\n",
        "le.fit(df.label)\n",
        "print(le.classes_)"
      ]
    },
    {
      "cell_type": "markdown",
      "metadata": {
        "id": "19ccUocvFzr3"
      },
      "source": [
        "The independent variables in the data that are categorical need to be one-hot-encoded as well to prepare the data for model training."
      ]
    },
    {
      "cell_type": "code",
      "execution_count": null,
      "metadata": {
        "id": "UEJeDmGuFzr4"
      },
      "outputs": [],
      "source": [
        "# capture the categorical variables and one-hot encode them\n",
        "cat_vars = ['protocol_type', 'service', 'flag', 'land', 'logged_in','is_host_login', 'is_guest_login']\n",
        "\n",
        "# find unique labels for each category\n",
        "cat_data = pd.get_dummies(df[cat_vars])"
      ]
    },
    {
      "cell_type": "code",
      "execution_count": null,
      "metadata": {
        "id": "mfyWdjAyFzr4"
      },
      "outputs": [],
      "source": [
        "# Numeric variables\n",
        "numeric_vars = list(set(df.columns.values.tolist()) - set(cat_vars))\n",
        "numeric_vars.remove('label')\n",
        "numeric_data = df[numeric_vars].copy()"
      ]
    },
    {
      "cell_type": "markdown",
      "metadata": {
        "id": "fuMI_zqfFzr4"
      },
      "source": [
        "Now let's concatenate numeric and encoded categorical variables:"
      ]
    },
    {
      "cell_type": "code",
      "execution_count": null,
      "metadata": {
        "colab": {
          "base_uri": "https://localhost:8080/"
        },
        "outputId": "b6633a33-c9e4-41ae-994e-ea6665d4edae",
        "id": "0x4j9I0fFzr4"
      },
      "outputs": [
        {
          "name": "stdout",
          "output_type": "stream",
          "text": [
            "(982508, 80)\n",
            "(982508, 34)\n",
            "(982508, 114)\n"
          ]
        }
      ],
      "source": [
        "# concatenate numeric and the encoded categorical variables\n",
        "numeric_cat_data = pd.concat([numeric_data, cat_data], axis=1)\n",
        "\n",
        "# here we do a quick sanity check that the data has been concatenated correctly by checking the dimension of the vectors\n",
        "print(cat_data.shape)\n",
        "print(numeric_data.shape)\n",
        "print(numeric_cat_data.shape)"
      ]
    },
    {
      "cell_type": "markdown",
      "metadata": {
        "id": "OTHiAHoMFzr4"
      },
      "source": [
        "### 3.3 Split the Data for Training/Test"
      ]
    },
    {
      "cell_type": "markdown",
      "metadata": {
        "id": "sXrey3rZFzr4"
      },
      "source": [
        "Now let's split the data into training set and test set in the ratio of 75:25. We will be using <a href=\"https://scikit-learn.org/stable/modules/generated/sklearn.preprocessing.LabelEncoder.html\">LabelEncoder</a>, <a href=\"https://scikit-learn.org/stable/modules/generated/sklearn.preprocessing.StandardScaler.html#sklearn.preprocessing.StandardScaler.fit_transform\">fit_transform</a> and <a href=\"https://scikit-https://scikit-learn.org/stable/modules/generated/sklearn.model_selection.train_test_split.html\">train_test_split</a> from scikit-learn."
      ]
    },
    {
      "cell_type": "code",
      "execution_count": null,
      "metadata": {
        "id": "wPOFaZ_RFzr4",
        "outputId": "bb902b0b-60a9-48b6-db2b-1c02ec95c4eb"
      },
      "outputs": [
        {
          "name": "stdout",
          "output_type": "stream",
          "text": [
            "(736881, 114)\n",
            "(736881,)\n",
            "(245627, 114)\n",
            "(245627,)\n"
          ]
        }
      ],
      "source": [
        "# capture the labels\n",
        "labels = df['label'].copy()\n",
        "\n",
        "# convert labels to integers\n",
        "integer_labels = le.transform(labels)\n",
        "\n",
        "# split data into test and train\n",
        "x_train, x_test, y_train, y_test = train_test_split(numeric_cat_data,\n",
        "                                                    integer_labels,\n",
        "                                                    test_size=.25,\n",
        "                                                    random_state=42)\n",
        "# check that the dimensions of our train and test sets are okay\n",
        "print(x_train.shape)\n",
        "print(y_train.shape)\n",
        "print(x_test.shape)\n",
        "print(y_test.shape)"
      ]
    },
    {
      "cell_type": "markdown",
      "metadata": {
        "id": "lyK7CN9dFzr4"
      },
      "source": [
        "### 3.4 Training a Binary Classifier"
      ]
    },
    {
      "cell_type": "markdown",
      "metadata": {
        "id": "VGZMLMhcFzr4"
      },
      "source": [
        "In the following cell, you will convert to binary labels. Remember what you do here as you will implement the multi-class solution yourself later."
      ]
    },
    {
      "cell_type": "code",
      "execution_count": null,
      "metadata": {
        "colab": {
          "base_uri": "https://localhost:8080/"
        },
        "outputId": "9e40eefd-4ee2-412d-f9d3-fbce60900875",
        "id": "Aj9eDdrtFzr5"
      },
      "outputs": [
        {
          "name": "stdout",
          "output_type": "stream",
          "text": [
            "Number of anomalies in y_train:  7261\n",
            "Number of anomalies in y_test:   2466\n"
          ]
        }
      ],
      "source": [
        "def convert_label_to_binary(label_encoder, labels):\n",
        "    normal_idx = np.where(label_encoder.classes_ == 'normal.')[0][0]\n",
        "    my_labels = labels.copy()\n",
        "    my_labels[my_labels != normal_idx] = 1\n",
        "    my_labels[my_labels == normal_idx] = 0\n",
        "    return my_labels\n",
        "\n",
        "binary_y_train = convert_label_to_binary(le, y_train)\n",
        "binary_y_test = convert_label_to_binary(le, y_test)\n",
        "\n",
        "# check how many anomalies are in our labels\n",
        "print('Number of anomalies in y_train: ', binary_y_train.sum())\n",
        "print('Number of anomalies in y_test:  ', binary_y_test.sum())\n"
      ]
    },
    {
      "cell_type": "markdown",
      "metadata": {
        "id": "4wqQGYhUFzr5"
      },
      "source": [
        "We see that the anomalies are optimally split between the training set and the testing set. Now that we have prepared the data, we are ready to train an XGBoost model to detect anomalies.\n",
        "<br>"
      ]
    },
    {
      "cell_type": "code",
      "execution_count": null,
      "metadata": {
        "id": "AaWHDFFrFzr5",
        "outputId": "189a39a4-e6ff-4b2f-a28e-335b196c2ca6"
      },
      "outputs": [
        {
          "name": "stdout",
          "output_type": "stream",
          "text": [
            "[02:26:40] WARNING: ../src/learner.cc:576: \n",
            "Parameters: { \"n_gpus\", \"num_rounds\", \"verbose\" } might not be used.\n",
            "\n",
            "  This could be a false alarm, with some parameters getting used by language bindings but\n",
            "  then being mistakenly passed down to XGBoost core, or some parameter actually being used\n",
            "  but getting flagged wrongly here. Please open an issue if you find any such cases.\n",
            "\n",
            "\n",
            "[02:26:41] WARNING: ../src/learner.cc:1115: Starting in XGBoost 1.3.0, the default evaluation metric used with the objective 'binary:logistic' was changed from 'error' to 'logloss'. Explicitly set eval_metric if you'd like to restore the old behavior.\n",
            "[0]\ttest-logloss:0.59818\ttrain-logloss:0.59817\n",
            "[1]\ttest-logloss:0.52040\ttrain-logloss:0.52039\n",
            "[2]\ttest-logloss:0.45554\ttrain-logloss:0.45553\n",
            "[3]\ttest-logloss:0.40071\ttrain-logloss:0.40070\n",
            "[4]\ttest-logloss:0.35388\ttrain-logloss:0.35386\n",
            "[5]\ttest-logloss:0.31353\ttrain-logloss:0.31352\n",
            "[6]\ttest-logloss:0.27854\ttrain-logloss:0.27853\n",
            "[7]\ttest-logloss:0.24802\ttrain-logloss:0.24800\n",
            "[8]\ttest-logloss:0.22127\ttrain-logloss:0.22126\n",
            "[9]\ttest-logloss:0.19773\ttrain-logloss:0.19772\n"
          ]
        }
      ],
      "source": [
        "dtrain = xgb.DMatrix(x_train, label=binary_y_train)\n",
        "dtest = xgb.DMatrix(x_test, label=binary_y_test)\n",
        "evals = [(dtest, 'test',), (dtrain, 'train')]\n",
        "num_rounds = params['num_rounds']\n",
        "model = xgb.train(params, dtrain, num_rounds, evals=evals)"
      ]
    },
    {
      "cell_type": "markdown",
      "metadata": {
        "id": "QDfq3WPjFzr5"
      },
      "source": [
        "### 3.5 Testing and Evaluation"
      ]
    },
    {
      "cell_type": "markdown",
      "metadata": {
        "id": "GqVJI8BHFzr5"
      },
      "source": [
        "If you scroll to the section where we declared our XGboost parameters, we see that we have set the objective to be `binary:logistic`.\n",
        "\n",
        "In a binary logistic classifier we usually set the threshold at 0.5 meaning all probability scores >= 0.5 will be assigned 1 (Anomaly) and those with scores < 0.5 will be assigned 0 (Normal).\n",
        "\n",
        "This will help us calculate the accuracy as we will see in the coming sections."
      ]
    },
    {
      "cell_type": "markdown",
      "metadata": {
        "id": "yRy6dz8yFzr5"
      },
      "source": [
        "First let's look at our predictions."
      ]
    },
    {
      "cell_type": "code",
      "execution_count": null,
      "metadata": {
        "id": "acSJR2GLFzr5",
        "outputId": "a5b8b0fc-4dba-4be6-fefc-9ae5a2ea7363"
      },
      "outputs": [
        {
          "data": {
            "text/plain": [
              "2466"
            ]
          },
          "execution_count": 87,
          "metadata": {},
          "output_type": "execute_result"
        }
      ],
      "source": [
        "threshold = .5\n",
        "true_labels = binary_y_test.astype(int)\n",
        "true_labels.sum()"
      ]
    },
    {
      "cell_type": "code",
      "execution_count": null,
      "metadata": {
        "id": "TxWcEWr8Fzr5",
        "outputId": "d7b38274-9e4b-449b-ddfb-efefe30f8a63"
      },
      "outputs": [
        {
          "name": "stdout",
          "output_type": "stream",
          "text": [
            "[0.17932051 0.17932051 0.17932051 ... 0.17932051 0.17932051 0.17932051]\n"
          ]
        }
      ],
      "source": [
        "# make predictions on the test set using our trained model\n",
        "preds = model.predict(dtest)\n",
        "print(preds)"
      ]
    },
    {
      "cell_type": "code",
      "execution_count": null,
      "metadata": {
        "id": "1Mfg7H5BFzr6",
        "outputId": "1b0dea4d-384a-4a50-b585-986cb9f357af"
      },
      "outputs": [
        {
          "name": "stdout",
          "output_type": "stream",
          "text": [
            "[0 0 0 ... 0 0 0]\n"
          ]
        }
      ],
      "source": [
        "pred_labels = (preds > threshold).astype(int)\n",
        "print(pred_labels)"
      ]
    },
    {
      "cell_type": "code",
      "execution_count": null,
      "metadata": {
        "id": "kIPtgn8MFzr6",
        "outputId": "7b0553b6-e922-4eda-ca9a-9af3e3254826"
      },
      "outputs": [
        {
          "data": {
            "text/plain": [
              "2453"
            ]
          },
          "execution_count": 90,
          "metadata": {},
          "output_type": "execute_result"
        }
      ],
      "source": [
        "pred_labels.sum()"
      ]
    },
    {
      "cell_type": "markdown",
      "metadata": {
        "id": "VJAQ4ez-Fzr6"
      },
      "source": [
        "#### 3.5.1 Area under the Curve (AUC) and Accuracy for the Skewed Data (Small Anomaly Ratio)\n",
        "\n",
        "We will use AUC metric again to represent the performance of the classification in general."
      ]
    },
    {
      "cell_type": "code",
      "execution_count": null,
      "metadata": {
        "id": "paSu5-UjFzr6",
        "outputId": "24235afc-32da-435c-c127-239acedc340c"
      },
      "outputs": [
        {
          "name": "stdout",
          "output_type": "stream",
          "text": [
            "0.9983689528503293\n"
          ]
        }
      ],
      "source": [
        "# compute the auc\n",
        "auc = roc_auc_score(true_labels, preds)\n",
        "print(auc)"
      ]
    },
    {
      "cell_type": "markdown",
      "metadata": {
        "id": "jbxq3GVmFzr6"
      },
      "source": [
        "We are getting near a perfect score here, even without any hyperparameter tuning. This is great!"
      ]
    },
    {
      "cell_type": "code",
      "execution_count": null,
      "metadata": {
        "id": "fK5fWmTlFzr6",
        "outputId": "46ffc174-36a0-45dc-aaea-e73b7726def0"
      },
      "outputs": [
        {
          "name": "stdout",
          "output_type": "stream",
          "text": [
            "Accuracy: 0.9999389317949574\n"
          ]
        }
      ],
      "source": [
        "print ('Accuracy:', accuracy_score(true_labels, pred_labels))"
      ]
    },
    {
      "cell_type": "markdown",
      "metadata": {
        "id": "3OAkj9hJFzr6"
      },
      "source": [
        "The accuracy could be a misleading metric in this anomaly detection problem, since we know in this case, the classes are highly imbalanced. Let's dig deeper by looking at the confusion matrix."
      ]
    },
    {
      "cell_type": "markdown",
      "metadata": {
        "id": "xZJjFOFAFzr6"
      },
      "source": [
        "#### 3.5.2 Confusion Matrix"
      ]
    },
    {
      "cell_type": "code",
      "execution_count": null,
      "metadata": {
        "id": "FLSqZKlNFzr6",
        "outputId": "38dc5ef3-4c35-47a0-d5c4-fbcd9b8eb351"
      },
      "outputs": [
        {
          "name": "stdout",
          "output_type": "stream",
          "text": [
            "Confusion Matrix :\n"
          ]
        },
        {
          "data": {
            "image/png": "[encoded data removed]",
            "text/plain": [
              "<Figure size 648x432 with 2 Axes>"
            ]
          },
          "metadata": {
            "needs_background": "light"
          },
          "output_type": "display_data"
        }
      ],
      "source": [
        "results = confusion_matrix(true_labels, pred_labels)\n",
        "\n",
        "print ('Confusion Matrix :')\n",
        "\n",
        "plot_confusion_matrix(results, ['Normal','Anomaly'])"
      ]
    },
    {
      "cell_type": "code",
      "execution_count": null,
      "metadata": {
        "id": "QhLCREg6Fzr7",
        "outputId": "ca67f5db-3263-4d62-f99c-92f76ec6315c"
      },
      "outputs": [
        {
          "data": {
            "text/plain": [
              "0.02"
            ]
          },
          "execution_count": 94,
          "metadata": {},
          "output_type": "execute_result"
        }
      ],
      "source": [
        "200/1000000*100"
      ]
    },
    {
      "cell_type": "markdown",
      "metadata": {
        "id": "XViBEmKMFzr7"
      },
      "source": [
        "<span style=\"color: red;\"> From the confusion matrix above, we can see that although perfoming really well as a classifier in general, our model is having a bit of a hard time detecting all the anomalies. The anomaly detection has still done a great job predicting anomalies, though 0.5% (14//2466) of anomalous instances are not detected. This slightly worse performance compared to the first case is due to the anomaly reduction that captures the reality better. Compare FPR = 14/2466 (0.5%) in this case to the FPR~200/1,000,000 (.02%)  in the non-reduced data. </span>"
      ]
    },
    {
      "cell_type": "markdown",
      "metadata": {
        "id": "UN74iaA_Fzr7"
      },
      "source": [
        "#### 3.5.3 ROC Curve for the Skewed Data"
      ]
    },
    {
      "cell_type": "markdown",
      "metadata": {
        "id": "8m1g927pFzr7"
      },
      "source": [
        "The ROC curve is a plot of the True Positive Rate (TPR) against the False Positive Rate (FPR). The TPR is a measure of how often the prediction is correct, when there is a positive value, and the FPR is how often the prediction is incorrect when the value is in fact negative."
      ]
    },
    {
      "cell_type": "code",
      "execution_count": null,
      "metadata": {
        "id": "MYXd-BidFzr7",
        "outputId": "d687d2fd-86a4-45b1-a546-04961932a25e"
      },
      "outputs": [
        {
          "data": {
            "image/png": "[encoded data removed]",
            "text/plain": [
              "<Figure size 648x432 with 1 Axes>"
            ]
          },
          "metadata": {
            "needs_background": "light"
          },
          "output_type": "display_data"
        }
      ],
      "source": [
        "fpr, tpr, thresholds = roc_curve(true_labels, pred_labels)\n",
        "roc_auc = roc_auc_score(true_labels, pred_labels)\n",
        "\n",
        "plt.figure(figsize=(9,6))\n",
        "plt.plot(fpr, tpr, color='darkorange', lw=4, label='ROC curve (area = %0.2f)' % roc_auc)\n",
        "plt.plot([0, 1], [0, 1], color='navy', linestyle='--')\n",
        "plt.xlim([0.0, 1.0])\n",
        "plt.ylim([0.0, 1.05])\n",
        "plt.xlabel('False Positive Rate')\n",
        "plt.ylabel('True Positive Rate')\n",
        "plt.title('Receiver operating characteristic')\n",
        "plt.legend(loc=\"lower right\")\n",
        "plt.show()"
      ]
    },
    {
      "cell_type": "markdown",
      "metadata": {
        "id": "jsJNJtGOFzr7"
      },
      "source": [
        "The closer the curve is to the left-hand and the top-hand borders of the ROC plotting area, the better the model is performing over all thresholds. The area under the ROC curve (AUC) is a way of quantifying this performance. 1 is a perfect score."
      ]
    },
    {
      "cell_type": "markdown",
      "metadata": {
        "id": "ONpnzSXSNPXV"
      },
      "source": [
        "Let's see what anomalies we have after the reduction."
      ]
    },
    {
      "cell_type": "code",
      "execution_count": null,
      "metadata": {
        "id": "vdNizvp2NPXV",
        "outputId": "b334f090-058a-4226-fa9a-919abfabb377"
      },
      "outputs": [
        {
          "data": {
            "text/html": [
              "<div>\n",
              "<style scoped>\n",
              "    .dataframe tbody tr th:only-of-type {\n",
              "        vertical-align: middle;\n",
              "    }\n",
              "\n",
              "    .dataframe tbody tr th {\n",
              "        vertical-align: top;\n",
              "    }\n",
              "\n",
              "    .dataframe thead th {\n",
              "        text-align: right;\n",
              "    }\n",
              "</style>\n",
              "<table border=\"1\" class=\"dataframe\">\n",
              "  <thead>\n",
              "    <tr style=\"text-align: right;\">\n",
              "      <th></th>\n",
              "      <th>label</th>\n",
              "    </tr>\n",
              "  </thead>\n",
              "  <tbody>\n",
              "    <tr>\n",
              "      <th>normal.</th>\n",
              "      <td>972781</td>\n",
              "    </tr>\n",
              "    <tr>\n",
              "      <th>smurf.</th>\n",
              "      <td>6903</td>\n",
              "    </tr>\n",
              "    <tr>\n",
              "      <th>neptune.</th>\n",
              "      <td>2705</td>\n",
              "    </tr>\n",
              "    <tr>\n",
              "      <th>portsweep.</th>\n",
              "      <td>41</td>\n",
              "    </tr>\n",
              "    <tr>\n",
              "      <th>ipsweep.</th>\n",
              "      <td>34</td>\n",
              "    </tr>\n",
              "    <tr>\n",
              "      <th>satan.</th>\n",
              "      <td>28</td>\n",
              "    </tr>\n",
              "    <tr>\n",
              "      <th>back.</th>\n",
              "      <td>7</td>\n",
              "    </tr>\n",
              "    <tr>\n",
              "      <th>nmap.</th>\n",
              "      <td>6</td>\n",
              "    </tr>\n",
              "    <tr>\n",
              "      <th>warezclient.</th>\n",
              "      <td>2</td>\n",
              "    </tr>\n",
              "    <tr>\n",
              "      <th>teardrop.</th>\n",
              "      <td>1</td>\n",
              "    </tr>\n",
              "  </tbody>\n",
              "</table>\n",
              "</div>"
            ],
            "text/plain": [
              "               label\n",
              "normal.       972781\n",
              "smurf.          6903\n",
              "neptune.        2705\n",
              "portsweep.        41\n",
              "ipsweep.          34\n",
              "satan.            28\n",
              "back.              7\n",
              "nmap.              6\n",
              "warezclient.       2\n",
              "teardrop.          1"
            ]
          },
          "execution_count": 96,
          "metadata": {},
          "output_type": "execute_result"
        }
      ],
      "source": [
        "pd.DataFrame(df['label'].value_counts())"
      ]
    },
    {
      "cell_type": "markdown",
      "metadata": {
        "id": "m8cGaq0ANPXW"
      },
      "source": [
        "## Section 4:  Multi-Class Classification Model [Exercise]"
      ]
    },
    {
      "cell_type": "markdown",
      "metadata": {
        "id": "bM0BSjIpNPXW"
      },
      "source": [
        "We've seen that XGBoost can identify anomalies in the KDD99 dataset really easily.  Let's see if XGBoost can detect the different types of anomalies.  To do that we will train a multi-classification model.\n",
        "\n",
        "We'll point out the difference, then have you implement the pieces that are the same using the binary classifier as a model.\n",
        "\n",
        "For multi-classification models, the labels have to be converted to integers (we've already done this) and the 'objective\n",
        "' and 'num_class' parameters must be changed accordingly."
      ]
    },
    {
      "cell_type": "code",
      "execution_count": null,
      "metadata": {
        "id": "DZMJ5R5oFzr8"
      },
      "outputs": [],
      "source": [
        "# Load the data from the first dataset without any anomaly reduction\n",
        "filename = './preprocessed_data_full.pkl'\n",
        "input_file = open(filename,'rb')\n",
        "preprocessed_data = pickle.load(input_file)\n",
        "input_file.close()\n",
        "le = preprocessed_data['le']\n",
        "x_train = preprocessed_data['x_train']\n",
        "y_train = preprocessed_data['y_train']\n",
        "x_test = preprocessed_data['x_test']\n",
        "y_test = preprocessed_data['y_test']"
      ]
    },
    {
      "cell_type": "markdown",
      "metadata": {
        "id": "l_6MisjBNPXW"
      },
      "source": [
        "### 4.1 Training the Model"
      ]
    },
    {
      "cell_type": "code",
      "execution_count": null,
      "metadata": {
        "id": "6-qwtqTVNPXW",
        "outputId": "1091715d-c627-4d5d-8ae2-71fca87d5be6"
      },
      "outputs": [
        {
          "name": "stdout",
          "output_type": "stream",
          "text": [
            "{'num_rounds': 10, 'max_depth': 8, 'max_leaves': 256, 'alpha': 0.9, 'eta': 0.1, 'gamma': 0.1, 'learning_rate': 0.1, 'subsample': 1, 'reg_lambda': 1, 'scale_pos_weight': 2, 'tree_method': 'gpu_hist', 'n_gpus': 1, 'objective': 'multi:softprob', 'verbose': True, 'num_class': 23}\n"
          ]
        }
      ],
      "source": [
        "num_labels = len(le.classes_)\n",
        "params['objective'] = 'multi:softprob' # See how this is different from the objective in binary classification\n",
        "params['num_class'] = num_labels\n",
        "print(params)"
      ]
    },
    {
      "cell_type": "code",
      "execution_count": null,
      "metadata": {
        "id": "M_ubVwgcNPXW",
        "outputId": "d23f2c01-6fe9-422e-8263-380b3b5998fa"
      },
      "outputs": [
        {
          "name": "stdout",
          "output_type": "stream",
          "text": [
            "[02:38:25] WARNING: ../src/learner.cc:576: \n",
            "Parameters: { \"n_gpus\", \"num_rounds\", \"scale_pos_weight\", \"verbose\" } might not be used.\n",
            "\n",
            "  This could be a false alarm, with some parameters getting used by language bindings but\n",
            "  then being mistakenly passed down to XGBoost core, or some parameter actually being used\n",
            "  but getting flagged wrongly here. Please open an issue if you find any such cases.\n",
            "\n",
            "\n",
            "[02:38:27] WARNING: ../src/learner.cc:1115: Starting in XGBoost 1.3.0, the default evaluation metric used with the objective 'multi:softprob' was changed from 'merror' to 'mlogloss'. Explicitly set eval_metric if you'd like to restore the old behavior.\n",
            "[0]\ttest-mlogloss:2.03136\ttrain-mlogloss:2.03135\n",
            "[1]\ttest-mlogloss:1.66738\ttrain-mlogloss:1.66736\n",
            "[2]\ttest-mlogloss:1.41898\ttrain-mlogloss:1.41896\n",
            "[3]\ttest-mlogloss:1.22980\ttrain-mlogloss:1.22977\n",
            "[4]\ttest-mlogloss:1.07778\ttrain-mlogloss:1.07774\n",
            "[5]\ttest-mlogloss:0.95161\ttrain-mlogloss:0.95157\n",
            "[6]\ttest-mlogloss:0.84469\ttrain-mlogloss:0.84464\n",
            "[7]\ttest-mlogloss:0.75272\ttrain-mlogloss:0.75267\n",
            "[8]\ttest-mlogloss:0.67274\ttrain-mlogloss:0.67268\n",
            "[9]\ttest-mlogloss:0.60267\ttrain-mlogloss:0.60260\n"
          ]
        }
      ],
      "source": [
        "dtrain = xgb.DMatrix(x_train, label=y_train)\n",
        "dtest = xgb.DMatrix(x_test, label=y_test)\n",
        "\n",
        "evals = [(dtest, 'test',), (dtrain, 'train')]\n",
        "model = xgb.train(params, dtrain, num_rounds, evals=evals)"
      ]
    },
    {
      "cell_type": "markdown",
      "metadata": {
        "id": "xtiVX4NINPXW"
      },
      "source": [
        "### 4.2 Testing and Evaluation"
      ]
    },
    {
      "cell_type": "markdown",
      "metadata": {
        "id": "-qR1QkbfNPXW"
      },
      "source": [
        "Let us again evaluate our model on the test set and see how it performs. Note that accuracy now is a metric of how well we do on each of the 23 classes."
      ]
    },
    {
      "cell_type": "code",
      "execution_count": null,
      "metadata": {
        "id": "v63-joT8NPXW"
      },
      "outputs": [],
      "source": [
        "preds = model.predict(dtest)"
      ]
    },
    {
      "cell_type": "code",
      "execution_count": null,
      "metadata": {
        "id": "fgJJ7juZNPXW"
      },
      "outputs": [],
      "source": [
        "pred_labels = np.argmax(preds, axis=1)"
      ]
    },
    {
      "cell_type": "code",
      "execution_count": null,
      "metadata": {
        "id": "J8fISfxQNPXW",
        "outputId": "b746c92f-6279-4c21-e778-e203e0fd2379"
      },
      "outputs": [
        {
          "data": {
            "text/plain": [
              "array([11, 18, 11, ..., 11, 18, 18])"
            ]
          },
          "execution_count": 102,
          "metadata": {},
          "output_type": "execute_result"
        }
      ],
      "source": [
        "pred_labels"
      ]
    },
    {
      "cell_type": "code",
      "execution_count": null,
      "metadata": {
        "id": "VYnG-KK0NPXW"
      },
      "outputs": [],
      "source": [
        "true_labels = y_test"
      ]
    },
    {
      "cell_type": "code",
      "execution_count": null,
      "metadata": {
        "id": "M52XcMCpNPXW",
        "outputId": "6cd8f752-81f8-49a1-ee8f-c9380df80b4a"
      },
      "outputs": [
        {
          "data": {
            "text/plain": [
              "array([11, 18, 11, ..., 11, 18, 18])"
            ]
          },
          "execution_count": 104,
          "metadata": {},
          "output_type": "execute_result"
        }
      ],
      "source": [
        "true_labels"
      ]
    },
    {
      "cell_type": "markdown",
      "metadata": {
        "id": "cPZS-h_mNPXX"
      },
      "source": [
        "### 4.3 Accuracy"
      ]
    },
    {
      "cell_type": "code",
      "execution_count": null,
      "metadata": {
        "id": "0ya552xONPXX",
        "outputId": "72d76094-507c-464b-c4bd-d95ea92b6a37"
      },
      "outputs": [
        {
          "name": "stdout",
          "output_type": "stream",
          "text": [
            "Accuracy Score : 0.9998228004389976\n"
          ]
        }
      ],
      "source": [
        "print ('Accuracy Score :', accuracy_score(true_labels, pred_labels))"
      ]
    },
    {
      "cell_type": "markdown",
      "metadata": {
        "id": "PL9t3eKBNPXX"
      },
      "source": [
        "We should be able to get near perfect accuracy. Let's look at the confusion matrix to make sure that we are detecting the anomalies."
      ]
    },
    {
      "cell_type": "markdown",
      "metadata": {
        "id": "LRC51L3_NPXX"
      },
      "source": [
        "### 4.4 Confusion Matrix"
      ]
    },
    {
      "cell_type": "code",
      "execution_count": null,
      "metadata": {
        "id": "efs-xmKpNPXX",
        "outputId": "5f8c94cc-3d34-4f98-8267-3bf64a4e8578"
      },
      "outputs": [
        {
          "name": "stdout",
          "output_type": "stream",
          "text": [
            "Confusion Matrix :\n"
          ]
        },
        {
          "data": {
            "image/png": "[encoded data removed]",
            "text/plain": [
              "<Figure size 720x720 with 2 Axes>"
            ]
          },
          "metadata": {
            "needs_background": "light"
          },
          "output_type": "display_data"
        }
      ],
      "source": [
        "cm = confusion_matrix(true_labels, pred_labels)\n",
        "\n",
        "print ('Confusion Matrix :')\n",
        "\n",
        "def plot_confusion_matrix(cm, title='Confusion matrix', cmap=plt.cm.Greens):\n",
        "    plt.figure(figsize=(10,10),)\n",
        "\n",
        "    plt.imshow(cm, interpolation='nearest', cmap=cmap)\n",
        "    plt.title(title)\n",
        "    plt.colorbar()\n",
        "\n",
        "    #tick_marks = np.arange(len(target_names))\n",
        "    #plt.xticks(tick_marks, target_names, rotation=45)\n",
        "    #plt.yticks(tick_marks, target_names)\n",
        "    plt.tight_layout()\n",
        "\n",
        "    width, height = cm.shape\n",
        "\n",
        "    for x in range(width):\n",
        "        for y in range(height):\n",
        "            plt.annotate(str(cm[x][y]), xy=(y, x),\n",
        "                        horizontalalignment='center',\n",
        "                        verticalalignment='center')\n",
        "    plt.ylabel('True label')\n",
        "    plt.xlabel('Predicted label')\n",
        "\n",
        "plot_confusion_matrix(cm)"
      ]
    },
    {
      "cell_type": "markdown",
      "metadata": {
        "id": "4bsmIswCNPXX"
      },
      "source": [
        "Even the multi-class problem can be solved near perfectly with XGBoost.  "
      ]
    },
    {
      "cell_type": "markdown",
      "metadata": {
        "id": "SUr6XiGtNPXX"
      },
      "source": [
        "# Conclusion"
      ]
    },
    {
      "cell_type": "markdown",
      "metadata": {
        "id": "T_GDFuBVNPXX"
      },
      "source": [
        "<b>\n",
        "As we saw in the binary and multi-class classification problems, XGBoost can be very effective at detecting anomalies when we have labeled data. However, most real-world cases of anomalies are not labeled. Thus, other unsupervised algorithms such as those using neural networks should be used.\n",
        "GPU-Accelerating XGboost through RAPIDS is easy and fast.  The only change we had to make to use the GPU was to set the 'tree_method' parameter to 'gpu_hist'.\n",
        "</b>"
      ]
    },
    {
      "cell_type": "markdown",
      "metadata": {
        "id": "2JXrETTLNPXX"
      },
      "source": [
        "# References"
      ]
    },
    {
      "cell_type": "markdown",
      "metadata": {
        "id": "jK-4COYrNPXX"
      },
      "source": [
        "<ol>\n",
        "<li> Dhaliwal, S., Nahid, A., & Abbas, R. (2018). Effective Intrusion Detection System Using XGBoost. Information, 9(7), 149. doi:10.3390/info9070149\n",
        "</li>\n",
        "<li>\n",
        "Brownlee, J. A Gentle Introduction to XGBoost for Applied Machine Learning. Machine Learning\n",
        "Mastery. Available online: http://machinelearningmastery.com/gentle-introduction-xgboost-applied-machine-learning/\n",
        "(accessed on 2 March 2018).\n",
        "    </li>\n",
        "    <li>A Study on NSL-KDD Dataset for Intrusion Detection System Based on Classification Algorithms. Available\n",
        "online: https://pdfs.semanticscholar.org/1b34/80021c4ab0f632efa99e01a9b073903c5554.pdf (accessed on\n",
        "        26 March 2018)</li>\n",
        "    <li>\n",
        "        XGBoost Parameters—Xgboost 0.7 Documentation. Available online: http://xgboost.readthedocs.io/en/\n",
        "latest/parameter.html (accessed on 12 March 2018)\n",
        "    </li>\n",
        "    <li>\n",
        "        RAPIDS Documentation and Cheat Sheet.Available online: https://rapids.ai/documentation.html\n",
        "    </li>\n",
        "    \n",
        "   "
      ]
    },
    {
      "cell_type": "code",
      "execution_count": null,
      "metadata": {
        "id": "Wl-0_XovFzsA"
      },
      "outputs": [],
      "source": []
    }
  ],
  "metadata": {
    "accelerator": "GPU",
    "colab": {
      "gpuType": "T4",
      "provenance": [],
      "include_colab_link": true
    },
    "kernelspec": {
      "display_name": "Python 3 (ipykernel)",
      "language": "python",
      "name": "python3"
    },
    "language_info": {
      "codemirror_mode": {
        "name": "ipython",
        "version": 3
      },
      "file_extension": ".py",
      "mimetype": "text/x-python",
      "name": "python",
      "nbconvert_exporter": "python",
      "pygments_lexer": "ipython3",
      "version": "3.8.10"
    }
  },
  "nbformat": 4,
  "nbformat_minor": 0
}